{
  "nbformat": 4,
  "nbformat_minor": 0,
  "metadata": {
    "colab": {
      "provenance": [],
      "authorship_tag": "ABX9TyOOFGAdkMWL593fIaxkvaqz",
      "include_colab_link": true
    },
    "kernelspec": {
      "name": "python3",
      "display_name": "Python 3"
    },
    "language_info": {
      "name": "python"
    }
  },
  "cells": [
    {
      "cell_type": "markdown",
      "metadata": {
        "id": "view-in-github",
        "colab_type": "text"
      },
      "source": [
        "<a href=\"https://colab.research.google.com/github/daveveed/Machine-Learning/blob/main/ANN_Regression_with_callbacks.ipynb\" target=\"_parent\"><img src=\"https://colab.research.google.com/assets/colab-badge.svg\" alt=\"Open In Colab\"/></a>"
      ]
    },
    {
      "cell_type": "code",
      "execution_count": 1,
      "metadata": {
        "id": "vupqBX-OyFrG"
      },
      "outputs": [],
      "source": [
        "import numpy as np, pandas as pd, matplotlib as mpl\n",
        "%matplotlib inline\n",
        "import matplotlib.pyplot as plt"
      ]
    },
    {
      "cell_type": "code",
      "source": [
        "import tensorflow as tf\n",
        "from tensorflow import keras"
      ],
      "metadata": {
        "id": "EYuA1IoDyZj6"
      },
      "execution_count": 2,
      "outputs": []
    },
    {
      "cell_type": "code",
      "source": [
        "from sklearn.datasets import fetch_california_housing"
      ],
      "metadata": {
        "id": "QjIEOibhyrnr"
      },
      "execution_count": 3,
      "outputs": []
    },
    {
      "cell_type": "markdown",
      "source": [
        "The objective is to predict the price of house using 8 different variables"
      ],
      "metadata": {
        "id": "F01mmO7czFIx"
      }
    },
    {
      "cell_type": "code",
      "source": [
        "housing = fetch_california_housing()"
      ],
      "metadata": {
        "id": "qSA-9Qbjy5qc"
      },
      "execution_count": 4,
      "outputs": []
    },
    {
      "cell_type": "code",
      "source": [
        "# print the independent variables\n",
        "housing.feature_names"
      ],
      "metadata": {
        "id": "mIEp53w9zVfi",
        "colab": {
          "base_uri": "https://localhost:8080/"
        },
        "outputId": "4c131ce4-4b2a-42c9-ff1e-36b6bc9d65b7"
      },
      "execution_count": 5,
      "outputs": [
        {
          "output_type": "execute_result",
          "data": {
            "text/plain": [
              "['MedInc',\n",
              " 'HouseAge',\n",
              " 'AveRooms',\n",
              " 'AveBedrms',\n",
              " 'Population',\n",
              " 'AveOccup',\n",
              " 'Latitude',\n",
              " 'Longitude']"
            ]
          },
          "metadata": {},
          "execution_count": 5
        }
      ]
    },
    {
      "cell_type": "markdown",
      "source": [
        "spliting"
      ],
      "metadata": {
        "id": "olL4wJm8OqjT"
      }
    },
    {
      "cell_type": "code",
      "source": [
        "from sklearn.model_selection import  train_test_split\n",
        "X_train_full, X_test, y_train_full, y_test = train_test_split(housing.data, housing.target, random_state=1)\n",
        "X_train, X_valid, y_train, y_valid = train_test_split(X_train_full, y_train_full, random_state=1)"
      ],
      "metadata": {
        "id": "NWZhAVeiNGXF"
      },
      "execution_count": 6,
      "outputs": []
    },
    {
      "cell_type": "markdown",
      "source": [
        "standadizng"
      ],
      "metadata": {
        "id": "WInOu5SOOt0A"
      }
    },
    {
      "cell_type": "code",
      "source": [
        "from sklearn.preprocessing import StandardScaler\n",
        "\n",
        "scaler = StandardScaler()\n",
        "X_train = scaler.fit_transform(X_train)\n",
        "X_valid = scaler.transform(X_valid)\n",
        "X_test = scaler.transform(X_test)"
      ],
      "metadata": {
        "id": "WBBqKvbJOe0I"
      },
      "execution_count": 7,
      "outputs": []
    },
    {
      "cell_type": "code",
      "source": [
        "X_train.shape[1]"
      ],
      "metadata": {
        "colab": {
          "base_uri": "https://localhost:8080/"
        },
        "id": "_sudyCYSQFBG",
        "outputId": "d3d076ea-43d5-4a7f-c04e-96c22c1eba3a"
      },
      "execution_count": 8,
      "outputs": [
        {
          "output_type": "execute_result",
          "data": {
            "text/plain": [
              "8"
            ]
          },
          "metadata": {},
          "execution_count": 8
        }
      ]
    },
    {
      "cell_type": "code",
      "source": [
        "np.random.seed(1)\n",
        "tf.random.set_seed(1)"
      ],
      "metadata": {
        "id": "SYPqx-3pR93t"
      },
      "execution_count": 9,
      "outputs": []
    },
    {
      "cell_type": "markdown",
      "source": [
        "we will be using functional API not sequential "
      ],
      "metadata": {
        "id": "AlEFY4mZPQ4S"
      }
    },
    {
      "cell_type": "code",
      "source": [
        "from keras.api._v2.keras import activations\n",
        "# building the model structure\n",
        "input_ = keras.layers.Input(shape=X_train.shape[1:])\n",
        "hidden1 = keras.layers.Dense(30, activation='relu')(input_)\n",
        "hidden2 = keras.layers.Dense(30, activation='relu')(hidden1)\n",
        "concat = keras.layers.concatenate([input_, hidden2])\n",
        "output = keras.layers.Dense(1)(concat)\n",
        "model = keras.models.Model(inputs = [input_], outputs = [output])"
      ],
      "metadata": {
        "id": "k7a_deJOPKC_"
      },
      "execution_count": 10,
      "outputs": []
    },
    {
      "cell_type": "code",
      "source": [
        "model.summary()"
      ],
      "metadata": {
        "id": "Td3Po1kVQxiO",
        "colab": {
          "base_uri": "https://localhost:8080/"
        },
        "outputId": "e430721f-29d6-42c4-cbbd-373088e988cf"
      },
      "execution_count": 11,
      "outputs": [
        {
          "output_type": "stream",
          "name": "stdout",
          "text": [
            "Model: \"model\"\n",
            "__________________________________________________________________________________________________\n",
            " Layer (type)                   Output Shape         Param #     Connected to                     \n",
            "==================================================================================================\n",
            " input_1 (InputLayer)           [(None, 8)]          0           []                               \n",
            "                                                                                                  \n",
            " dense (Dense)                  (None, 30)           270         ['input_1[0][0]']                \n",
            "                                                                                                  \n",
            " dense_1 (Dense)                (None, 30)           930         ['dense[0][0]']                  \n",
            "                                                                                                  \n",
            " concatenate (Concatenate)      (None, 38)           0           ['input_1[0][0]',                \n",
            "                                                                  'dense_1[0][0]']                \n",
            "                                                                                                  \n",
            " dense_2 (Dense)                (None, 1)            39          ['concatenate[0][0]']            \n",
            "                                                                                                  \n",
            "==================================================================================================\n",
            "Total params: 1,239\n",
            "Trainable params: 1,239\n",
            "Non-trainable params: 0\n",
            "__________________________________________________________________________________________________\n"
          ]
        }
      ]
    },
    {
      "cell_type": "code",
      "source": [
        "from keras.engine.training import optimizer\n",
        "# compile the model\n",
        "model.compile(loss = 'mean_squared_error', \n",
        "              optimizer=keras.optimizers.SGD(learning_rate=1e-3), \n",
        "              metrics=['mae'])"
      ],
      "metadata": {
        "id": "KP2LFL59YRs2"
      },
      "execution_count": 18,
      "outputs": []
    },
    {
      "cell_type": "code",
      "source": [
        "model_history = model.fit(X_train, y_train, epochs=30, validation_data=(X_valid, y_valid))"
      ],
      "metadata": {
        "colab": {
          "base_uri": "https://localhost:8080/"
        },
        "id": "liT-kY8VY9RU",
        "outputId": "73f2f5cb-d889-4a3a-e525-01317a542d53"
      },
      "execution_count": 24,
      "outputs": [
        {
          "output_type": "stream",
          "name": "stdout",
          "text": [
            "Epoch 1/30\n",
            "363/363 [==============================] - 1s 2ms/step - loss: 0.4337 - mae: 0.4733 - val_loss: 0.4264 - val_mae: 0.4723\n",
            "Epoch 2/30\n",
            "363/363 [==============================] - 1s 2ms/step - loss: 0.4319 - mae: 0.4724 - val_loss: 0.4215 - val_mae: 0.4704\n",
            "Epoch 3/30\n",
            "363/363 [==============================] - 1s 2ms/step - loss: 0.4296 - mae: 0.4710 - val_loss: 0.4164 - val_mae: 0.4706\n",
            "Epoch 4/30\n",
            "363/363 [==============================] - 1s 2ms/step - loss: 0.4277 - mae: 0.4709 - val_loss: 0.4135 - val_mae: 0.4638\n",
            "Epoch 5/30\n",
            "363/363 [==============================] - 1s 3ms/step - loss: 0.4265 - mae: 0.4687 - val_loss: 0.4120 - val_mae: 0.4658\n",
            "Epoch 6/30\n",
            "363/363 [==============================] - 1s 2ms/step - loss: 0.4253 - mae: 0.4682 - val_loss: 0.4138 - val_mae: 0.4652\n",
            "Epoch 7/30\n",
            "363/363 [==============================] - 1s 2ms/step - loss: 0.4230 - mae: 0.4675 - val_loss: 0.4105 - val_mae: 0.4634\n",
            "Epoch 8/30\n",
            "363/363 [==============================] - 1s 3ms/step - loss: 0.4209 - mae: 0.4660 - val_loss: 0.4088 - val_mae: 0.4616\n",
            "Epoch 9/30\n",
            "363/363 [==============================] - 1s 2ms/step - loss: 0.4202 - mae: 0.4653 - val_loss: 0.4123 - val_mae: 0.4609\n",
            "Epoch 10/30\n",
            "363/363 [==============================] - 1s 3ms/step - loss: 0.4181 - mae: 0.4640 - val_loss: 0.4053 - val_mae: 0.4613\n",
            "Epoch 11/30\n",
            "363/363 [==============================] - 1s 3ms/step - loss: 0.4170 - mae: 0.4636 - val_loss: 0.4043 - val_mae: 0.4606\n",
            "Epoch 12/30\n",
            "363/363 [==============================] - 1s 3ms/step - loss: 0.4151 - mae: 0.4622 - val_loss: 0.4054 - val_mae: 0.4609\n",
            "Epoch 13/30\n",
            "363/363 [==============================] - 1s 2ms/step - loss: 0.4139 - mae: 0.4618 - val_loss: 0.4021 - val_mae: 0.4604\n",
            "Epoch 14/30\n",
            "363/363 [==============================] - 1s 3ms/step - loss: 0.4126 - mae: 0.4604 - val_loss: 0.3992 - val_mae: 0.4583\n",
            "Epoch 15/30\n",
            "363/363 [==============================] - 1s 3ms/step - loss: 0.4111 - mae: 0.4597 - val_loss: 0.3982 - val_mae: 0.4557\n",
            "Epoch 16/30\n",
            "363/363 [==============================] - 1s 4ms/step - loss: 0.4098 - mae: 0.4582 - val_loss: 0.3993 - val_mae: 0.4604\n",
            "Epoch 17/30\n",
            "363/363 [==============================] - 1s 2ms/step - loss: 0.4085 - mae: 0.4582 - val_loss: 0.3975 - val_mae: 0.4544\n",
            "Epoch 18/30\n",
            "363/363 [==============================] - 1s 2ms/step - loss: 0.4067 - mae: 0.4569 - val_loss: 0.3962 - val_mae: 0.4528\n",
            "Epoch 19/30\n",
            "363/363 [==============================] - 1s 2ms/step - loss: 0.4058 - mae: 0.4564 - val_loss: 0.3949 - val_mae: 0.4506\n",
            "Epoch 20/30\n",
            "363/363 [==============================] - 1s 2ms/step - loss: 0.4044 - mae: 0.4553 - val_loss: 0.3940 - val_mae: 0.4518\n",
            "Epoch 21/30\n",
            "363/363 [==============================] - 1s 3ms/step - loss: 0.4035 - mae: 0.4546 - val_loss: 0.3921 - val_mae: 0.4500\n",
            "Epoch 22/30\n",
            "363/363 [==============================] - 1s 2ms/step - loss: 0.4015 - mae: 0.4534 - val_loss: 0.3904 - val_mae: 0.4506\n",
            "Epoch 23/30\n",
            "363/363 [==============================] - 1s 3ms/step - loss: 0.4006 - mae: 0.4527 - val_loss: 0.3889 - val_mae: 0.4485\n",
            "Epoch 24/30\n",
            "363/363 [==============================] - 1s 4ms/step - loss: 0.3994 - mae: 0.4522 - val_loss: 0.3890 - val_mae: 0.4493\n",
            "Epoch 25/30\n",
            "363/363 [==============================] - 1s 3ms/step - loss: 0.3982 - mae: 0.4512 - val_loss: 0.3870 - val_mae: 0.4465\n",
            "Epoch 26/30\n",
            "363/363 [==============================] - 1s 2ms/step - loss: 0.3972 - mae: 0.4505 - val_loss: 0.3846 - val_mae: 0.4465\n",
            "Epoch 27/30\n",
            "363/363 [==============================] - 1s 3ms/step - loss: 0.3959 - mae: 0.4497 - val_loss: 0.3851 - val_mae: 0.4456\n",
            "Epoch 28/30\n",
            "363/363 [==============================] - 1s 2ms/step - loss: 0.3950 - mae: 0.4495 - val_loss: 0.3840 - val_mae: 0.4445\n",
            "Epoch 29/30\n",
            "363/363 [==============================] - 1s 3ms/step - loss: 0.3939 - mae: 0.4480 - val_loss: 0.3845 - val_mae: 0.4467\n",
            "Epoch 30/30\n",
            "363/363 [==============================] - 1s 3ms/step - loss: 0.3924 - mae: 0.4476 - val_loss: 0.3820 - val_mae: 0.4448\n"
          ]
        }
      ]
    },
    {
      "cell_type": "code",
      "source": [
        "mae_test = model.evaluate(X_test, y_test)"
      ],
      "metadata": {
        "colab": {
          "base_uri": "https://localhost:8080/"
        },
        "id": "HABKmP7FZ5TS",
        "outputId": "68cca9ba-b82a-4e23-b4d4-1aab6dd4e150"
      },
      "execution_count": 25,
      "outputs": [
        {
          "output_type": "stream",
          "name": "stdout",
          "text": [
            "162/162 [==============================] - 0s 1ms/step - loss: 0.4129 - mae: 0.4531\n"
          ]
        }
      ]
    },
    {
      "cell_type": "code",
      "source": [
        "model_history.history"
      ],
      "metadata": {
        "colab": {
          "base_uri": "https://localhost:8080/"
        },
        "id": "gA5HzVqlaFqd",
        "outputId": "722a76b3-64fc-456f-e4a0-34659af9d6fb"
      },
      "execution_count": 26,
      "outputs": [
        {
          "output_type": "execute_result",
          "data": {
            "text/plain": [
              "{'loss': [0.43369171023368835,\n",
              "  0.431871235370636,\n",
              "  0.4296186566352844,\n",
              "  0.42774248123168945,\n",
              "  0.42651858925819397,\n",
              "  0.4252835512161255,\n",
              "  0.4229722321033478,\n",
              "  0.42088326811790466,\n",
              "  0.42019587755203247,\n",
              "  0.41812628507614136,\n",
              "  0.4170253276824951,\n",
              "  0.41505667567253113,\n",
              "  0.4139396846294403,\n",
              "  0.4125841557979584,\n",
              "  0.4111444056034088,\n",
              "  0.409821093082428,\n",
              "  0.4084743857383728,\n",
              "  0.4066609740257263,\n",
              "  0.4057827889919281,\n",
              "  0.4044336974620819,\n",
              "  0.40345826745033264,\n",
              "  0.40154996514320374,\n",
              "  0.4005703032016754,\n",
              "  0.3993947505950928,\n",
              "  0.3982318043708801,\n",
              "  0.3971969485282898,\n",
              "  0.3959026038646698,\n",
              "  0.39497870206832886,\n",
              "  0.3938557803630829,\n",
              "  0.39243388175964355],\n",
              " 'mae': [0.4733007848262787,\n",
              "  0.47237351536750793,\n",
              "  0.4710439443588257,\n",
              "  0.4709198772907257,\n",
              "  0.4687364995479584,\n",
              "  0.46824562549591064,\n",
              "  0.4674753248691559,\n",
              "  0.4659675657749176,\n",
              "  0.4653179347515106,\n",
              "  0.4639836549758911,\n",
              "  0.463559091091156,\n",
              "  0.46219831705093384,\n",
              "  0.4617635905742645,\n",
              "  0.46043089032173157,\n",
              "  0.4597444236278534,\n",
              "  0.45824509859085083,\n",
              "  0.45822691917419434,\n",
              "  0.45687589049339294,\n",
              "  0.45640885829925537,\n",
              "  0.45526567101478577,\n",
              "  0.45463210344314575,\n",
              "  0.4534386098384857,\n",
              "  0.45271167159080505,\n",
              "  0.4521685540676117,\n",
              "  0.45121675729751587,\n",
              "  0.4505346417427063,\n",
              "  0.4497376084327698,\n",
              "  0.44948720932006836,\n",
              "  0.44800901412963867,\n",
              "  0.44761165976524353],\n",
              " 'val_loss': [0.4264127314090729,\n",
              "  0.42151132225990295,\n",
              "  0.4164007306098938,\n",
              "  0.4134702980518341,\n",
              "  0.41200122237205505,\n",
              "  0.4137532413005829,\n",
              "  0.41054967045783997,\n",
              "  0.4088369905948639,\n",
              "  0.4123433828353882,\n",
              "  0.40527597069740295,\n",
              "  0.40427619218826294,\n",
              "  0.40541601181030273,\n",
              "  0.4021073281764984,\n",
              "  0.3991694152355194,\n",
              "  0.3982267677783966,\n",
              "  0.399265855550766,\n",
              "  0.39751121401786804,\n",
              "  0.3962371349334717,\n",
              "  0.3948827087879181,\n",
              "  0.3940420150756836,\n",
              "  0.3920799493789673,\n",
              "  0.39040443301200867,\n",
              "  0.3888615667819977,\n",
              "  0.38895511627197266,\n",
              "  0.3869953751564026,\n",
              "  0.38456079363822937,\n",
              "  0.385147362947464,\n",
              "  0.3840041160583496,\n",
              "  0.3844676613807678,\n",
              "  0.38203126192092896],\n",
              " 'val_mae': [0.4723356068134308,\n",
              "  0.4704085886478424,\n",
              "  0.4706374704837799,\n",
              "  0.46378573775291443,\n",
              "  0.46577149629592896,\n",
              "  0.46523377299308777,\n",
              "  0.46341851353645325,\n",
              "  0.4616391658782959,\n",
              "  0.4608800411224365,\n",
              "  0.4613476097583771,\n",
              "  0.46059948205947876,\n",
              "  0.46090567111968994,\n",
              "  0.4603743553161621,\n",
              "  0.4582553803920746,\n",
              "  0.45571643114089966,\n",
              "  0.460405170917511,\n",
              "  0.4544205367565155,\n",
              "  0.4527820348739624,\n",
              "  0.4506128132343292,\n",
              "  0.45179975032806396,\n",
              "  0.4500236511230469,\n",
              "  0.45055556297302246,\n",
              "  0.44848886132240295,\n",
              "  0.4493083953857422,\n",
              "  0.4465184509754181,\n",
              "  0.4464603364467621,\n",
              "  0.4455711841583252,\n",
              "  0.44447386264801025,\n",
              "  0.44668176770210266,\n",
              "  0.44476255774497986]}"
            ]
          },
          "metadata": {},
          "execution_count": 26
        }
      ]
    },
    {
      "cell_type": "code",
      "source": [
        "pd.DataFrame(model_history.history).plot(figsize=(8,5))\n",
        "plt.grid(True)\n",
        "plt.gca().set_ylim(0,1)\n",
        "plt.show()"
      ],
      "metadata": {
        "colab": {
          "base_uri": "https://localhost:8080/",
          "height": 451
        },
        "id": "KBVMK6nOaK6m",
        "outputId": "98d97496-2ac4-459a-b24e-cdeb745586f2"
      },
      "execution_count": 27,
      "outputs": [
        {
          "output_type": "display_data",
          "data": {
            "text/plain": [
              "<Figure size 800x500 with 1 Axes>"
            ],
            "image/png": "[encoded data removed]"
          },
          "metadata": {}
        }
      ]
    },
    {
      "cell_type": "markdown",
      "source": [
        "## saving the model"
      ],
      "metadata": {
        "id": "Pu3FwFIlbICg"
      }
    },
    {
      "cell_type": "code",
      "source": [
        "model.save('my_model.h5') # the .h5 is the extension format to save the model as"
      ],
      "metadata": {
        "id": "ClSrRM-dag4I"
      },
      "execution_count": 28,
      "outputs": []
    },
    {
      "cell_type": "code",
      "source": [
        "%pwd"
      ],
      "metadata": {
        "colab": {
          "base_uri": "https://localhost:8080/",
          "height": 35
        },
        "id": "r0QO8VNnbODO",
        "outputId": "f12b8760-268a-4c07-aff8-c3ce3a811135"
      },
      "execution_count": 29,
      "outputs": [
        {
          "output_type": "execute_result",
          "data": {
            "text/plain": [
              "'/content'"
            ],
            "application/vnd.google.colaboratory.intrinsic+json": {
              "type": "string"
            }
          },
          "metadata": {},
          "execution_count": 29
        }
      ]
    },
    {
      "cell_type": "code",
      "source": [
        "# delete the model\n",
        "del model"
      ],
      "metadata": {
        "id": "nb4QQVBkbPvf"
      },
      "execution_count": 30,
      "outputs": []
    },
    {
      "cell_type": "code",
      "source": [
        "#clear the session\n",
        "keras.backend.clear_session()"
      ],
      "metadata": {
        "id": "YsBmBd8Vbacb"
      },
      "execution_count": 31,
      "outputs": []
    },
    {
      "cell_type": "code",
      "source": [
        "model"
      ],
      "metadata": {
        "colab": {
          "base_uri": "https://localhost:8080/",
          "height": 165
        },
        "id": "R4FaiKg4bjAI",
        "outputId": "2d177d5a-5ddd-447a-c838-a1a89188e2b5"
      },
      "execution_count": 32,
      "outputs": [
        {
          "output_type": "error",
          "ename": "NameError",
          "evalue": "ignored",
          "traceback": [
            "\u001b[0;31m---------------------------------------------------------------------------\u001b[0m",
            "\u001b[0;31mNameError\u001b[0m                                 Traceback (most recent call last)",
            "\u001b[0;32m<ipython-input-32-1f8a688cae5d>\u001b[0m in \u001b[0;36m<cell line: 1>\u001b[0;34m()\u001b[0m\n\u001b[0;32m----> 1\u001b[0;31m \u001b[0mmodel\u001b[0m\u001b[0;34m\u001b[0m\u001b[0;34m\u001b[0m\u001b[0m\n\u001b[0m",
            "\u001b[0;31mNameError\u001b[0m: name 'model' is not defined"
          ]
        }
      ]
    },
    {
      "cell_type": "code",
      "source": [
        "#reload the model\n",
        "model = keras.models.load_model('my_model.h5')"
      ],
      "metadata": {
        "id": "LAF5kN5DblGe"
      },
      "execution_count": 33,
      "outputs": []
    },
    {
      "cell_type": "code",
      "source": [
        "model"
      ],
      "metadata": {
        "colab": {
          "base_uri": "https://localhost:8080/"
        },
        "id": "Ajk_JH1Eb2Af",
        "outputId": "b1c1c557-722a-41c3-8d18-d9557e87165b"
      },
      "execution_count": 34,
      "outputs": [
        {
          "output_type": "execute_result",
          "data": {
            "text/plain": [
              "<keras.engine.functional.Functional at 0x7fb3a3753f70>"
            ]
          },
          "metadata": {},
          "execution_count": 34
        }
      ]
    },
    {
      "cell_type": "code",
      "source": [
        "model.summary()"
      ],
      "metadata": {
        "colab": {
          "base_uri": "https://localhost:8080/"
        },
        "id": "MV9-efnSb3Kz",
        "outputId": "3da8bce9-a951-4093-eed9-89124fcc2944"
      },
      "execution_count": 35,
      "outputs": [
        {
          "output_type": "stream",
          "name": "stdout",
          "text": [
            "Model: \"model\"\n",
            "__________________________________________________________________________________________________\n",
            " Layer (type)                   Output Shape         Param #     Connected to                     \n",
            "==================================================================================================\n",
            " input_1 (InputLayer)           [(None, 8)]          0           []                               \n",
            "                                                                                                  \n",
            " dense (Dense)                  (None, 30)           270         ['input_1[0][0]']                \n",
            "                                                                                                  \n",
            " dense_1 (Dense)                (None, 30)           930         ['dense[0][0]']                  \n",
            "                                                                                                  \n",
            " concatenate (Concatenate)      (None, 38)           0           ['input_1[0][0]',                \n",
            "                                                                  'dense_1[0][0]']                \n",
            "                                                                                                  \n",
            " dense_2 (Dense)                (None, 1)            39          ['concatenate[0][0]']            \n",
            "                                                                                                  \n",
            "==================================================================================================\n",
            "Total params: 1,239\n",
            "Trainable params: 1,239\n",
            "Non-trainable params: 0\n",
            "__________________________________________________________________________________________________\n"
          ]
        }
      ]
    },
    {
      "cell_type": "markdown",
      "source": [
        "## using call backs during training\n",
        "\n",
        "with this we can save our training at a particular epoch "
      ],
      "metadata": {
        "id": "iuCHVTEmcHi6"
      }
    },
    {
      "cell_type": "code",
      "source": [
        "del model"
      ],
      "metadata": {
        "id": "VS6rYb6nb6hl"
      },
      "execution_count": 36,
      "outputs": []
    },
    {
      "cell_type": "code",
      "source": [
        "# create a new model to illustrate\n",
        "keras.backend.clear_session()"
      ],
      "metadata": {
        "id": "C1QuqP_UcU-x"
      },
      "execution_count": 38,
      "outputs": []
    },
    {
      "cell_type": "code",
      "source": [
        "model = keras.models.Sequential([\n",
        "    keras.layers.Dense(30, activation='relu', input_shape=[8]),\n",
        "    keras.layers.Dense(30, activation='relu'),\n",
        "    keras.layers.Dense(1)\n",
        "])"
      ],
      "metadata": {
        "id": "JFYlPaYRceah"
      },
      "execution_count": 39,
      "outputs": []
    },
    {
      "cell_type": "code",
      "source": [
        "model.compile(loss='mse',\n",
        "              optimizer=keras.optimizers.SGD(lr=1e-3))"
      ],
      "metadata": {
        "colab": {
          "base_uri": "https://localhost:8080/"
        },
        "id": "jKCXnHCxc5qS",
        "outputId": "faab9f47-5d6a-405e-950e-44d722f0daa5"
      },
      "execution_count": 40,
      "outputs": [
        {
          "output_type": "stream",
          "name": "stderr",
          "text": [
            "WARNING:absl:`lr` is deprecated in Keras optimizer, please use `learning_rate` or use the legacy optimizer, e.g.,tf.keras.optimizers.legacy.SGD.\n"
          ]
        }
      ]
    },
    {
      "cell_type": "code",
      "source": [
        "checkpoint_cb = keras.callbacks.ModelCheckpoint('Model-{epoch:02d}.h5')"
      ],
      "metadata": {
        "id": "aie2In98dUn9"
      },
      "execution_count": 41,
      "outputs": []
    },
    {
      "cell_type": "code",
      "source": [
        "history = model.fit(X_train,y_train, epochs=10,\n",
        "                    validation_data=(X_valid, y_valid),\n",
        "                    callbacks=[checkpoint_cb])"
      ],
      "metadata": {
        "colab": {
          "base_uri": "https://localhost:8080/"
        },
        "id": "tni-M9fpeEsz",
        "outputId": "314a0aee-0edf-436f-969e-2013b1558a5c"
      },
      "execution_count": 42,
      "outputs": [
        {
          "output_type": "stream",
          "name": "stdout",
          "text": [
            "Epoch 1/10\n",
            "363/363 [==============================] - 2s 4ms/step - loss: 1.0267 - val_loss: 0.7294\n",
            "Epoch 2/10\n",
            "363/363 [==============================] - 1s 2ms/step - loss: 2.7845 - val_loss: 0.6195\n",
            "Epoch 3/10\n",
            "363/363 [==============================] - 1s 3ms/step - loss: 0.4726 - val_loss: 0.4304\n",
            "Epoch 4/10\n",
            "363/363 [==============================] - 1s 4ms/step - loss: 0.4147 - val_loss: 0.3945\n",
            "Epoch 5/10\n",
            "363/363 [==============================] - 1s 3ms/step - loss: 0.3937 - val_loss: 0.3892\n",
            "Epoch 6/10\n",
            "363/363 [==============================] - 1s 3ms/step - loss: 0.3814 - val_loss: 0.3681\n",
            "Epoch 7/10\n",
            "363/363 [==============================] - 1s 3ms/step - loss: 0.3704 - val_loss: 0.3578\n",
            "Epoch 8/10\n",
            "363/363 [==============================] - 1s 2ms/step - loss: 0.3630 - val_loss: 0.3523\n",
            "Epoch 9/10\n",
            "363/363 [==============================] - 1s 2ms/step - loss: 0.3577 - val_loss: 0.3479\n",
            "Epoch 10/10\n",
            "363/363 [==============================] - 1s 2ms/step - loss: 0.3514 - val_loss: 0.3457\n"
          ]
        }
      ]
    },
    {
      "cell_type": "code",
      "source": [
        "# del the model\n",
        "del model\n",
        "keras.backend.clear_session()"
      ],
      "metadata": {
        "id": "FUwvQzJNebn1"
      },
      "execution_count": 43,
      "outputs": []
    },
    {
      "cell_type": "code",
      "source": [
        "# now we can load any of the epochs\n",
        "model = keras.models.load_model('Model-10.h5') #this is loading the 10th epoch"
      ],
      "metadata": {
        "id": "5QgU7PFNeu5r"
      },
      "execution_count": 44,
      "outputs": []
    },
    {
      "cell_type": "code",
      "source": [
        "mse_test = model.evaluate(X_test, y_test)"
      ],
      "metadata": {
        "colab": {
          "base_uri": "https://localhost:8080/"
        },
        "id": "tPoyvDGWe9l0",
        "outputId": "5332a89d-175f-4bdc-b04c-65f00b5d025f"
      },
      "execution_count": 45,
      "outputs": [
        {
          "output_type": "stream",
          "name": "stdout",
          "text": [
            "162/162 [==============================] - 1s 7ms/step - loss: 0.3756\n"
          ]
        }
      ]
    },
    {
      "cell_type": "markdown",
      "source": [
        "## choosing the best model\n",
        "\n",
        "- there's no need to save the model at each epoch\n",
        "- we will set the save best to true while creating the check point\n",
        "- it only saves the best one\n",
        "\n",
        "\n",
        "\n",
        "\n",
        "\n"
      ],
      "metadata": {
        "id": "aTX0s7QZfF_i"
      }
    },
    {
      "cell_type": "code",
      "source": [
        "model = keras.models.Sequential([\n",
        "    keras.layers.Dense(30, activation='relu', input_shape=[8]),\n",
        "    keras.layers.Dense(30, activation='relu'),\n",
        "    keras.layers.Dense(1)\n",
        "])"
      ],
      "metadata": {
        "id": "gM5cY4MlfDU9"
      },
      "execution_count": 46,
      "outputs": []
    },
    {
      "cell_type": "code",
      "source": [
        "model.compile(loss='mse',\n",
        "              optimizer=keras.optimizers.SGD(lr=1e-3))"
      ],
      "metadata": {
        "colab": {
          "base_uri": "https://localhost:8080/"
        },
        "id": "6ZZX10vCgLOk",
        "outputId": "7efb0c37-0c74-41d0-cb81-958a8f6f9efb"
      },
      "execution_count": 47,
      "outputs": [
        {
          "output_type": "stream",
          "name": "stderr",
          "text": [
            "WARNING:absl:`lr` is deprecated in Keras optimizer, please use `learning_rate` or use the legacy optimizer, e.g.,tf.keras.optimizers.legacy.SGD.\n"
          ]
        }
      ]
    },
    {
      "cell_type": "code",
      "source": [
        "checkpoint_cb = keras.callbacks.ModelCheckpoint('Best_MOdel.h5', save_best_only=True)"
      ],
      "metadata": {
        "id": "eJjjo4NUgcgi"
      },
      "execution_count": 48,
      "outputs": []
    },
    {
      "cell_type": "code",
      "source": [
        "history = model.fit(X_train, y_train, epochs = 10,\n",
        "                    validation_data=(X_valid, y_valid),\n",
        "                    callbacks = [checkpoint_cb])"
      ],
      "metadata": {
        "colab": {
          "base_uri": "https://localhost:8080/"
        },
        "id": "4TTfWUrvgr4i",
        "outputId": "902175c1-5f9a-47c2-ebf7-0ac45ba5ec8f"
      },
      "execution_count": 49,
      "outputs": [
        {
          "output_type": "stream",
          "name": "stdout",
          "text": [
            "Epoch 1/10\n",
            "363/363 [==============================] - 4s 8ms/step - loss: 1.1430 - val_loss: 1.5045\n",
            "Epoch 2/10\n",
            "363/363 [==============================] - 4s 10ms/step - loss: 0.6949 - val_loss: 0.4568\n",
            "Epoch 3/10\n",
            "363/363 [==============================] - 1s 2ms/step - loss: 0.4416 - val_loss: 0.4269\n",
            "Epoch 4/10\n",
            "363/363 [==============================] - 1s 2ms/step - loss: 0.4154 - val_loss: 0.3943\n",
            "Epoch 5/10\n",
            "363/363 [==============================] - 1s 3ms/step - loss: 0.3948 - val_loss: 0.3857\n",
            "Epoch 6/10\n",
            "363/363 [==============================] - 1s 3ms/step - loss: 0.3806 - val_loss: 0.3655\n",
            "Epoch 7/10\n",
            "363/363 [==============================] - 1s 3ms/step - loss: 0.3702 - val_loss: 0.3606\n",
            "Epoch 8/10\n",
            "363/363 [==============================] - 1s 2ms/step - loss: 0.3631 - val_loss: 0.3508\n",
            "Epoch 9/10\n",
            "363/363 [==============================] - 1s 2ms/step - loss: 0.3578 - val_loss: 0.3451\n",
            "Epoch 10/10\n",
            "363/363 [==============================] - 1s 3ms/step - loss: 0.3511 - val_loss: 0.3435\n"
          ]
        }
      ]
    },
    {
      "cell_type": "code",
      "source": [
        "model = keras.models.load_model('Best_MOdel.h5')\n",
        "mse_test = model.evaluate(X_test, y_test)"
      ],
      "metadata": {
        "colab": {
          "base_uri": "https://localhost:8080/"
        },
        "id": "iFFg8KMPhC77",
        "outputId": "22e47cd1-7f13-4b13-f23e-e13b7609352a"
      },
      "execution_count": 50,
      "outputs": [
        {
          "output_type": "stream",
          "name": "stdout",
          "text": [
            "162/162 [==============================] - 1s 4ms/step - loss: 0.3663\n"
          ]
        }
      ]
    },
    {
      "cell_type": "markdown",
      "source": [
        "### early stopping callback\n",
        "\n",
        "when we have large epoch and the validation accuracy, and select the nest model."
      ],
      "metadata": {
        "id": "ACLc953ahpwK"
      }
    },
    {
      "cell_type": "code",
      "source": [
        "del model"
      ],
      "metadata": {
        "id": "oZ4NPZ_Ghd4J"
      },
      "execution_count": 51,
      "outputs": []
    },
    {
      "cell_type": "code",
      "source": [
        "keras.backend.clear_session()"
      ],
      "metadata": {
        "id": "dd333gfbmWqg"
      },
      "execution_count": 52,
      "outputs": []
    },
    {
      "cell_type": "code",
      "source": [
        "model = keras.models.Sequential([\n",
        "    keras.layers.Dense(30, activation= 'relu', input_shape=[8]),\n",
        "    keras.layers.Dense(30, activation='relu'),\n",
        "    keras.layers.Dense(1)\n",
        "])"
      ],
      "metadata": {
        "id": "qFR3RrB1mdEs"
      },
      "execution_count": 53,
      "outputs": []
    },
    {
      "cell_type": "code",
      "source": [
        "model.compile(loss='mse', optimizer=keras.optimizers.SGD(learning_rate=1e-3))"
      ],
      "metadata": {
        "id": "ymzLEC0Entng"
      },
      "execution_count": 54,
      "outputs": []
    },
    {
      "cell_type": "code",
      "source": [
        "checkpoint_cb = keras.callbacks.ModelCheckpoint('early_stop_model.h5', save_best_only=True)"
      ],
      "metadata": {
        "id": "UtmHMoPYoAwG"
      },
      "execution_count": 55,
      "outputs": []
    },
    {
      "cell_type": "code",
      "source": [
        "early_stopping_cb = keras.callbacks.EarlyStopping(patience =10,\n",
        "                                                  restore_best_weights= True) \n",
        "#patience is the no of epochs with no improvement after which training will be stopped"
      ],
      "metadata": {
        "id": "JhRP2KQ-op-0"
      },
      "execution_count": 56,
      "outputs": []
    },
    {
      "cell_type": "code",
      "source": [
        "history = model.fit(X_train, y_train, epochs = 200,\n",
        "                    validation_data =(X_valid, y_valid),\n",
        "                    callbacks=[checkpoint_cb, early_stopping_cb])"
      ],
      "metadata": {
        "colab": {
          "base_uri": "https://localhost:8080/"
        },
        "id": "PXE7aJqIqVO3",
        "outputId": "2cc1b1ac-ae5a-4b4a-963f-eeb6b81a9c95"
      },
      "execution_count": 57,
      "outputs": [
        {
          "output_type": "stream",
          "name": "stdout",
          "text": [
            "Epoch 1/200\n",
            "363/363 [==============================] - 3s 7ms/step - loss: 2.0136 - val_loss: 0.7592\n",
            "Epoch 2/200\n",
            "363/363 [==============================] - 1s 3ms/step - loss: 0.6773 - val_loss: 0.5795\n",
            "Epoch 3/200\n",
            "363/363 [==============================] - 1s 3ms/step - loss: 0.5960 - val_loss: 0.5426\n",
            "Epoch 4/200\n",
            "363/363 [==============================] - 1s 3ms/step - loss: 0.5667 - val_loss: 0.5176\n",
            "Epoch 5/200\n",
            "363/363 [==============================] - 2s 4ms/step - loss: 0.5459 - val_loss: 0.5020\n",
            "Epoch 6/200\n",
            "363/363 [==============================] - 1s 3ms/step - loss: 0.5297 - val_loss: 0.4900\n",
            "Epoch 7/200\n",
            "363/363 [==============================] - 2s 4ms/step - loss: 0.5166 - val_loss: 0.4806\n",
            "Epoch 8/200\n",
            "363/363 [==============================] - 2s 5ms/step - loss: 0.5059 - val_loss: 0.4719\n",
            "Epoch 9/200\n",
            "363/363 [==============================] - 3s 9ms/step - loss: 0.4979 - val_loss: 0.4653\n",
            "Epoch 10/200\n",
            "363/363 [==============================] - 3s 9ms/step - loss: 0.4903 - val_loss: 0.4599\n",
            "Epoch 11/200\n",
            "363/363 [==============================] - 2s 4ms/step - loss: 0.4839 - val_loss: 0.4544\n",
            "Epoch 12/200\n",
            "363/363 [==============================] - 2s 5ms/step - loss: 0.4782 - val_loss: 0.4504\n",
            "Epoch 13/200\n",
            "363/363 [==============================] - 2s 4ms/step - loss: 0.4730 - val_loss: 0.4463\n",
            "Epoch 14/200\n",
            "363/363 [==============================] - 2s 5ms/step - loss: 0.4683 - val_loss: 0.4422\n",
            "Epoch 15/200\n",
            "363/363 [==============================] - 4s 10ms/step - loss: 0.4640 - val_loss: 0.4381\n",
            "Epoch 16/200\n",
            "363/363 [==============================] - 1s 3ms/step - loss: 0.4598 - val_loss: 0.4372\n",
            "Epoch 17/200\n",
            "363/363 [==============================] - 2s 4ms/step - loss: 0.4561 - val_loss: 0.4323\n",
            "Epoch 18/200\n",
            "363/363 [==============================] - 1s 4ms/step - loss: 0.4525 - val_loss: 0.4287\n",
            "Epoch 19/200\n",
            "363/363 [==============================] - 1s 4ms/step - loss: 0.4495 - val_loss: 0.4255\n",
            "Epoch 20/200\n",
            "363/363 [==============================] - 2s 5ms/step - loss: 0.4466 - val_loss: 0.4237\n",
            "Epoch 21/200\n",
            "363/363 [==============================] - 2s 6ms/step - loss: 0.4440 - val_loss: 0.4211\n",
            "Epoch 22/200\n",
            "363/363 [==============================] - 2s 6ms/step - loss: 0.4410 - val_loss: 0.4199\n",
            "Epoch 23/200\n",
            "363/363 [==============================] - 2s 6ms/step - loss: 0.4388 - val_loss: 0.4170\n",
            "Epoch 24/200\n",
            "363/363 [==============================] - 2s 6ms/step - loss: 0.4364 - val_loss: 0.4164\n",
            "Epoch 25/200\n",
            "363/363 [==============================] - 2s 4ms/step - loss: 0.4344 - val_loss: 0.4133\n",
            "Epoch 26/200\n",
            "363/363 [==============================] - 1s 2ms/step - loss: 0.4321 - val_loss: 0.4110\n",
            "Epoch 27/200\n",
            "363/363 [==============================] - 1s 3ms/step - loss: 0.4301 - val_loss: 0.4101\n",
            "Epoch 28/200\n",
            "363/363 [==============================] - 1s 3ms/step - loss: 0.4283 - val_loss: 0.4083\n",
            "Epoch 29/200\n",
            "363/363 [==============================] - 1s 2ms/step - loss: 0.4264 - val_loss: 0.4073\n",
            "Epoch 30/200\n",
            "363/363 [==============================] - 1s 4ms/step - loss: 0.4245 - val_loss: 0.4054\n",
            "Epoch 31/200\n",
            "363/363 [==============================] - 2s 5ms/step - loss: 0.4226 - val_loss: 0.4041\n",
            "Epoch 32/200\n",
            "363/363 [==============================] - 3s 7ms/step - loss: 0.4211 - val_loss: 0.4019\n",
            "Epoch 33/200\n",
            "363/363 [==============================] - 2s 5ms/step - loss: 0.4192 - val_loss: 0.4006\n",
            "Epoch 34/200\n",
            "363/363 [==============================] - 1s 4ms/step - loss: 0.4176 - val_loss: 0.4002\n",
            "Epoch 35/200\n",
            "363/363 [==============================] - 1s 4ms/step - loss: 0.4160 - val_loss: 0.3989\n",
            "Epoch 36/200\n",
            "363/363 [==============================] - 1s 3ms/step - loss: 0.4145 - val_loss: 0.3975\n",
            "Epoch 37/200\n",
            "363/363 [==============================] - 1s 4ms/step - loss: 0.4131 - val_loss: 0.3952\n",
            "Epoch 38/200\n",
            "363/363 [==============================] - 1s 4ms/step - loss: 0.4119 - val_loss: 0.3939\n",
            "Epoch 39/200\n",
            "363/363 [==============================] - 2s 5ms/step - loss: 0.4105 - val_loss: 0.3919\n",
            "Epoch 40/200\n",
            "363/363 [==============================] - 2s 7ms/step - loss: 0.4089 - val_loss: 0.3916\n",
            "Epoch 41/200\n",
            "363/363 [==============================] - 1s 4ms/step - loss: 0.4077 - val_loss: 0.3920\n",
            "Epoch 42/200\n",
            "363/363 [==============================] - 1s 4ms/step - loss: 0.4063 - val_loss: 0.3883\n",
            "Epoch 43/200\n",
            "363/363 [==============================] - 1s 4ms/step - loss: 0.4051 - val_loss: 0.3873\n",
            "Epoch 44/200\n",
            "363/363 [==============================] - 1s 4ms/step - loss: 0.4036 - val_loss: 0.3878\n",
            "Epoch 45/200\n",
            "363/363 [==============================] - 1s 4ms/step - loss: 0.4024 - val_loss: 0.3848\n",
            "Epoch 46/200\n",
            "363/363 [==============================] - 1s 3ms/step - loss: 0.4005 - val_loss: 0.3854\n",
            "Epoch 47/200\n",
            "363/363 [==============================] - 1s 2ms/step - loss: 0.3999 - val_loss: 0.3823\n",
            "Epoch 48/200\n",
            "363/363 [==============================] - 1s 3ms/step - loss: 0.3983 - val_loss: 0.3822\n",
            "Epoch 49/200\n",
            "363/363 [==============================] - 1s 3ms/step - loss: 0.3973 - val_loss: 0.3799\n",
            "Epoch 50/200\n",
            "363/363 [==============================] - 1s 3ms/step - loss: 0.3960 - val_loss: 0.3805\n",
            "Epoch 51/200\n",
            "363/363 [==============================] - 1s 2ms/step - loss: 0.3948 - val_loss: 0.3793\n",
            "Epoch 52/200\n",
            "363/363 [==============================] - 3s 8ms/step - loss: 0.3936 - val_loss: 0.3778\n",
            "Epoch 53/200\n",
            "363/363 [==============================] - 1s 3ms/step - loss: 0.3924 - val_loss: 0.3769\n",
            "Epoch 54/200\n",
            "363/363 [==============================] - 1s 3ms/step - loss: 0.3911 - val_loss: 0.3764\n",
            "Epoch 55/200\n",
            "363/363 [==============================] - 1s 2ms/step - loss: 0.3904 - val_loss: 0.3743\n",
            "Epoch 56/200\n",
            "363/363 [==============================] - 1s 2ms/step - loss: 0.3892 - val_loss: 0.3743\n",
            "Epoch 57/200\n",
            "363/363 [==============================] - 1s 3ms/step - loss: 0.3880 - val_loss: 0.3731\n",
            "Epoch 58/200\n",
            "363/363 [==============================] - 1s 2ms/step - loss: 0.3870 - val_loss: 0.3718\n",
            "Epoch 59/200\n",
            "363/363 [==============================] - 1s 3ms/step - loss: 0.3862 - val_loss: 0.3722\n",
            "Epoch 60/200\n",
            "363/363 [==============================] - 1s 4ms/step - loss: 0.3848 - val_loss: 0.3719\n",
            "Epoch 61/200\n",
            "363/363 [==============================] - 1s 4ms/step - loss: 0.3841 - val_loss: 0.3696\n",
            "Epoch 62/200\n",
            "363/363 [==============================] - 1s 3ms/step - loss: 0.3830 - val_loss: 0.3683\n",
            "Epoch 63/200\n",
            "363/363 [==============================] - 1s 2ms/step - loss: 0.3821 - val_loss: 0.3690\n",
            "Epoch 64/200\n",
            "363/363 [==============================] - 1s 2ms/step - loss: 0.3815 - val_loss: 0.3670\n",
            "Epoch 65/200\n",
            "363/363 [==============================] - 1s 2ms/step - loss: 0.3803 - val_loss: 0.3666\n",
            "Epoch 66/200\n",
            "363/363 [==============================] - 1s 2ms/step - loss: 0.3794 - val_loss: 0.3661\n",
            "Epoch 67/200\n",
            "363/363 [==============================] - 1s 3ms/step - loss: 0.3780 - val_loss: 0.3645\n",
            "Epoch 68/200\n",
            "363/363 [==============================] - 1s 2ms/step - loss: 0.3773 - val_loss: 0.3644\n",
            "Epoch 69/200\n",
            "363/363 [==============================] - 1s 2ms/step - loss: 0.3769 - val_loss: 0.3640\n",
            "Epoch 70/200\n",
            "363/363 [==============================] - 1s 2ms/step - loss: 0.3758 - val_loss: 0.3641\n",
            "Epoch 71/200\n",
            "363/363 [==============================] - 1s 2ms/step - loss: 0.3751 - val_loss: 0.3623\n",
            "Epoch 72/200\n",
            "363/363 [==============================] - 1s 3ms/step - loss: 0.3742 - val_loss: 0.3622\n",
            "Epoch 73/200\n",
            "363/363 [==============================] - 1s 3ms/step - loss: 0.3735 - val_loss: 0.3616\n",
            "Epoch 74/200\n",
            "363/363 [==============================] - 1s 3ms/step - loss: 0.3726 - val_loss: 0.3616\n",
            "Epoch 75/200\n",
            "363/363 [==============================] - 1s 3ms/step - loss: 0.3716 - val_loss: 0.3594\n",
            "Epoch 76/200\n",
            "363/363 [==============================] - 1s 2ms/step - loss: 0.3710 - val_loss: 0.3593\n",
            "Epoch 77/200\n",
            "363/363 [==============================] - 1s 2ms/step - loss: 0.3703 - val_loss: 0.3585\n",
            "Epoch 78/200\n",
            "363/363 [==============================] - 1s 2ms/step - loss: 0.3691 - val_loss: 0.3587\n",
            "Epoch 79/200\n",
            "363/363 [==============================] - 1s 2ms/step - loss: 0.3684 - val_loss: 0.3575\n",
            "Epoch 80/200\n",
            "363/363 [==============================] - 1s 3ms/step - loss: 0.3678 - val_loss: 0.3572\n",
            "Epoch 81/200\n",
            "363/363 [==============================] - 1s 2ms/step - loss: 0.3673 - val_loss: 0.3557\n",
            "Epoch 82/200\n",
            "363/363 [==============================] - 1s 3ms/step - loss: 0.3662 - val_loss: 0.3569\n",
            "Epoch 83/200\n",
            "363/363 [==============================] - 1s 2ms/step - loss: 0.3659 - val_loss: 0.3540\n",
            "Epoch 84/200\n",
            "363/363 [==============================] - 1s 2ms/step - loss: 0.3650 - val_loss: 0.3536\n",
            "Epoch 85/200\n",
            "363/363 [==============================] - 1s 2ms/step - loss: 0.3643 - val_loss: 0.3538\n",
            "Epoch 86/200\n",
            "363/363 [==============================] - 1s 2ms/step - loss: 0.3635 - val_loss: 0.3531\n",
            "Epoch 87/200\n",
            "363/363 [==============================] - 1s 3ms/step - loss: 0.3629 - val_loss: 0.3533\n",
            "Epoch 88/200\n",
            "363/363 [==============================] - 1s 3ms/step - loss: 0.3623 - val_loss: 0.3517\n",
            "Epoch 89/200\n",
            "363/363 [==============================] - 1s 4ms/step - loss: 0.3613 - val_loss: 0.3533\n",
            "Epoch 90/200\n",
            "363/363 [==============================] - 1s 2ms/step - loss: 0.3609 - val_loss: 0.3533\n",
            "Epoch 91/200\n",
            "363/363 [==============================] - 1s 2ms/step - loss: 0.3603 - val_loss: 0.3508\n",
            "Epoch 92/200\n",
            "363/363 [==============================] - 1s 2ms/step - loss: 0.3595 - val_loss: 0.3500\n",
            "Epoch 93/200\n",
            "363/363 [==============================] - 1s 2ms/step - loss: 0.3585 - val_loss: 0.3482\n",
            "Epoch 94/200\n",
            "363/363 [==============================] - 1s 2ms/step - loss: 0.3582 - val_loss: 0.3481\n",
            "Epoch 95/200\n",
            "363/363 [==============================] - 1s 3ms/step - loss: 0.3577 - val_loss: 0.3473\n",
            "Epoch 96/200\n",
            "363/363 [==============================] - 1s 2ms/step - loss: 0.3568 - val_loss: 0.3468\n",
            "Epoch 97/200\n",
            "363/363 [==============================] - 1s 2ms/step - loss: 0.3559 - val_loss: 0.3472\n",
            "Epoch 98/200\n",
            "363/363 [==============================] - 1s 2ms/step - loss: 0.3555 - val_loss: 0.3455\n",
            "Epoch 99/200\n",
            "363/363 [==============================] - 1s 2ms/step - loss: 0.3549 - val_loss: 0.3451\n",
            "Epoch 100/200\n",
            "363/363 [==============================] - 1s 2ms/step - loss: 0.3541 - val_loss: 0.3457\n",
            "Epoch 101/200\n",
            "363/363 [==============================] - 1s 3ms/step - loss: 0.3541 - val_loss: 0.3444\n",
            "Epoch 102/200\n",
            "363/363 [==============================] - 1s 3ms/step - loss: 0.3527 - val_loss: 0.3451\n",
            "Epoch 103/200\n",
            "363/363 [==============================] - 1s 3ms/step - loss: 0.3523 - val_loss: 0.3437\n",
            "Epoch 104/200\n",
            "363/363 [==============================] - 1s 3ms/step - loss: 0.3514 - val_loss: 0.3471\n",
            "Epoch 105/200\n",
            "363/363 [==============================] - 1s 3ms/step - loss: 0.3510 - val_loss: 0.3430\n",
            "Epoch 106/200\n",
            "363/363 [==============================] - 1s 3ms/step - loss: 0.3503 - val_loss: 0.3420\n",
            "Epoch 107/200\n",
            "363/363 [==============================] - 1s 3ms/step - loss: 0.3490 - val_loss: 0.3459\n",
            "Epoch 108/200\n",
            "363/363 [==============================] - 1s 2ms/step - loss: 0.3489 - val_loss: 0.3415\n",
            "Epoch 109/200\n",
            "363/363 [==============================] - 1s 2ms/step - loss: 0.3494 - val_loss: 0.3415\n",
            "Epoch 110/200\n",
            "363/363 [==============================] - 1s 2ms/step - loss: 0.3479 - val_loss: 0.3396\n",
            "Epoch 111/200\n",
            "363/363 [==============================] - 1s 2ms/step - loss: 0.3473 - val_loss: 0.3390\n",
            "Epoch 112/200\n",
            "363/363 [==============================] - 1s 2ms/step - loss: 0.3467 - val_loss: 0.3393\n",
            "Epoch 113/200\n",
            "363/363 [==============================] - 1s 2ms/step - loss: 0.3462 - val_loss: 0.3387\n",
            "Epoch 114/200\n",
            "363/363 [==============================] - 1s 2ms/step - loss: 0.3455 - val_loss: 0.3398\n",
            "Epoch 115/200\n",
            "363/363 [==============================] - 1s 3ms/step - loss: 0.3453 - val_loss: 0.3371\n",
            "Epoch 116/200\n",
            "363/363 [==============================] - 1s 3ms/step - loss: 0.3442 - val_loss: 0.3377\n",
            "Epoch 117/200\n",
            "363/363 [==============================] - 1s 3ms/step - loss: 0.3440 - val_loss: 0.3381\n",
            "Epoch 118/200\n",
            "363/363 [==============================] - 1s 2ms/step - loss: 0.3435 - val_loss: 0.3360\n",
            "Epoch 119/200\n",
            "363/363 [==============================] - 1s 2ms/step - loss: 0.3431 - val_loss: 0.3382\n",
            "Epoch 120/200\n",
            "363/363 [==============================] - 1s 2ms/step - loss: 0.3429 - val_loss: 0.3365\n",
            "Epoch 121/200\n",
            "363/363 [==============================] - 1s 2ms/step - loss: 0.3423 - val_loss: 0.3360\n",
            "Epoch 122/200\n",
            "363/363 [==============================] - 1s 2ms/step - loss: 0.3416 - val_loss: 0.3361\n",
            "Epoch 123/200\n",
            "363/363 [==============================] - 1s 3ms/step - loss: 0.3412 - val_loss: 0.3341\n",
            "Epoch 124/200\n",
            "363/363 [==============================] - 1s 3ms/step - loss: 0.3405 - val_loss: 0.3352\n",
            "Epoch 125/200\n",
            "363/363 [==============================] - 1s 2ms/step - loss: 0.3408 - val_loss: 0.3349\n",
            "Epoch 126/200\n",
            "363/363 [==============================] - 1s 2ms/step - loss: 0.3399 - val_loss: 0.3342\n",
            "Epoch 127/200\n",
            "363/363 [==============================] - 1s 2ms/step - loss: 0.3390 - val_loss: 0.3348\n",
            "Epoch 128/200\n",
            "363/363 [==============================] - 1s 2ms/step - loss: 0.3392 - val_loss: 0.3341\n",
            "Epoch 129/200\n",
            "363/363 [==============================] - 1s 3ms/step - loss: 0.3384 - val_loss: 0.3327\n",
            "Epoch 130/200\n",
            "363/363 [==============================] - 2s 6ms/step - loss: 0.3376 - val_loss: 0.3342\n",
            "Epoch 131/200\n",
            "363/363 [==============================] - 2s 5ms/step - loss: 0.3382 - val_loss: 0.3349\n",
            "Epoch 132/200\n",
            "363/363 [==============================] - 1s 3ms/step - loss: 0.3373 - val_loss: 0.3334\n",
            "Epoch 133/200\n",
            "363/363 [==============================] - 1s 3ms/step - loss: 0.3366 - val_loss: 0.3317\n",
            "Epoch 134/200\n",
            "363/363 [==============================] - 1s 2ms/step - loss: 0.3362 - val_loss: 0.3314\n",
            "Epoch 135/200\n",
            "363/363 [==============================] - 1s 2ms/step - loss: 0.3358 - val_loss: 0.3320\n",
            "Epoch 136/200\n",
            "363/363 [==============================] - 1s 3ms/step - loss: 0.3347 - val_loss: 0.3346\n",
            "Epoch 137/200\n",
            "363/363 [==============================] - 1s 2ms/step - loss: 0.3351 - val_loss: 0.3310\n",
            "Epoch 138/200\n",
            "363/363 [==============================] - 1s 2ms/step - loss: 0.3350 - val_loss: 0.3297\n",
            "Epoch 139/200\n",
            "363/363 [==============================] - 1s 2ms/step - loss: 0.3347 - val_loss: 0.3298\n",
            "Epoch 140/200\n",
            "363/363 [==============================] - 1s 2ms/step - loss: 0.3339 - val_loss: 0.3308\n",
            "Epoch 141/200\n",
            "363/363 [==============================] - 1s 2ms/step - loss: 0.3336 - val_loss: 0.3299\n",
            "Epoch 142/200\n",
            "363/363 [==============================] - 1s 3ms/step - loss: 0.3331 - val_loss: 0.3289\n",
            "Epoch 143/200\n",
            "363/363 [==============================] - 1s 3ms/step - loss: 0.3328 - val_loss: 0.3285\n",
            "Epoch 144/200\n",
            "363/363 [==============================] - 1s 3ms/step - loss: 0.3322 - val_loss: 0.3275\n",
            "Epoch 145/200\n",
            "363/363 [==============================] - 1s 2ms/step - loss: 0.3319 - val_loss: 0.3307\n",
            "Epoch 146/200\n",
            "363/363 [==============================] - 1s 2ms/step - loss: 0.3320 - val_loss: 0.3281\n",
            "Epoch 147/200\n",
            "363/363 [==============================] - 1s 3ms/step - loss: 0.3315 - val_loss: 0.3301\n",
            "Epoch 148/200\n",
            "363/363 [==============================] - 1s 3ms/step - loss: 0.3310 - val_loss: 0.3276\n",
            "Epoch 149/200\n",
            "363/363 [==============================] - 1s 2ms/step - loss: 0.3306 - val_loss: 0.3270\n",
            "Epoch 150/200\n",
            "363/363 [==============================] - 1s 2ms/step - loss: 0.3303 - val_loss: 0.3271\n",
            "Epoch 151/200\n",
            "363/363 [==============================] - 1s 2ms/step - loss: 0.3301 - val_loss: 0.3279\n",
            "Epoch 152/200\n",
            "363/363 [==============================] - 1s 2ms/step - loss: 0.3295 - val_loss: 0.3272\n",
            "Epoch 153/200\n",
            "363/363 [==============================] - 1s 3ms/step - loss: 0.3290 - val_loss: 0.3259\n",
            "Epoch 154/200\n",
            "363/363 [==============================] - 1s 2ms/step - loss: 0.3290 - val_loss: 0.3268\n",
            "Epoch 155/200\n",
            "363/363 [==============================] - 1s 3ms/step - loss: 0.3284 - val_loss: 0.3257\n",
            "Epoch 156/200\n",
            "363/363 [==============================] - 1s 3ms/step - loss: 0.3285 - val_loss: 0.3259\n",
            "Epoch 157/200\n",
            "363/363 [==============================] - 1s 4ms/step - loss: 0.3282 - val_loss: 0.3241\n",
            "Epoch 158/200\n",
            "363/363 [==============================] - 1s 3ms/step - loss: 0.3275 - val_loss: 0.3258\n",
            "Epoch 159/200\n",
            "363/363 [==============================] - 1s 3ms/step - loss: 0.3274 - val_loss: 0.3254\n",
            "Epoch 160/200\n",
            "363/363 [==============================] - 1s 2ms/step - loss: 0.3274 - val_loss: 0.3253\n",
            "Epoch 161/200\n",
            "363/363 [==============================] - 1s 2ms/step - loss: 0.3266 - val_loss: 0.3257\n",
            "Epoch 162/200\n",
            "363/363 [==============================] - 1s 2ms/step - loss: 0.3265 - val_loss: 0.3240\n",
            "Epoch 163/200\n",
            "363/363 [==============================] - 1s 2ms/step - loss: 0.3262 - val_loss: 0.3248\n",
            "Epoch 164/200\n",
            "363/363 [==============================] - 1s 2ms/step - loss: 0.3258 - val_loss: 0.3238\n",
            "Epoch 165/200\n",
            "363/363 [==============================] - 2s 5ms/step - loss: 0.3258 - val_loss: 0.3231\n",
            "Epoch 166/200\n",
            "363/363 [==============================] - 2s 4ms/step - loss: 0.3255 - val_loss: 0.3238\n",
            "Epoch 167/200\n",
            "363/363 [==============================] - 1s 2ms/step - loss: 0.3250 - val_loss: 0.3237\n",
            "Epoch 168/200\n",
            "363/363 [==============================] - 1s 3ms/step - loss: 0.3244 - val_loss: 0.3242\n",
            "Epoch 169/200\n",
            "363/363 [==============================] - 1s 3ms/step - loss: 0.3246 - val_loss: 0.3231\n",
            "Epoch 170/200\n",
            "363/363 [==============================] - 1s 3ms/step - loss: 0.3241 - val_loss: 0.3213\n",
            "Epoch 171/200\n",
            "363/363 [==============================] - 1s 2ms/step - loss: 0.3240 - val_loss: 0.3227\n",
            "Epoch 172/200\n",
            "363/363 [==============================] - 1s 2ms/step - loss: 0.3238 - val_loss: 0.3208\n",
            "Epoch 173/200\n",
            "363/363 [==============================] - 1s 2ms/step - loss: 0.3239 - val_loss: 0.3228\n",
            "Epoch 174/200\n",
            "363/363 [==============================] - 1s 2ms/step - loss: 0.3235 - val_loss: 0.3206\n",
            "Epoch 175/200\n",
            "363/363 [==============================] - 1s 2ms/step - loss: 0.3233 - val_loss: 0.3212\n",
            "Epoch 176/200\n",
            "363/363 [==============================] - 1s 2ms/step - loss: 0.3225 - val_loss: 0.3222\n",
            "Epoch 177/200\n",
            "363/363 [==============================] - 1s 3ms/step - loss: 0.3219 - val_loss: 0.3224\n",
            "Epoch 178/200\n",
            "363/363 [==============================] - 1s 3ms/step - loss: 0.3220 - val_loss: 0.3206\n",
            "Epoch 179/200\n",
            "363/363 [==============================] - 1s 2ms/step - loss: 0.3218 - val_loss: 0.3231\n",
            "Epoch 180/200\n",
            "363/363 [==============================] - 1s 2ms/step - loss: 0.3214 - val_loss: 0.3202\n",
            "Epoch 181/200\n",
            "363/363 [==============================] - 1s 2ms/step - loss: 0.3213 - val_loss: 0.3208\n",
            "Epoch 182/200\n",
            "363/363 [==============================] - 1s 3ms/step - loss: 0.3209 - val_loss: 0.3221\n",
            "Epoch 183/200\n",
            "363/363 [==============================] - 1s 3ms/step - loss: 0.3206 - val_loss: 0.3201\n",
            "Epoch 184/200\n",
            "363/363 [==============================] - 1s 3ms/step - loss: 0.3204 - val_loss: 0.3197\n",
            "Epoch 185/200\n",
            "363/363 [==============================] - 1s 3ms/step - loss: 0.3201 - val_loss: 0.3211\n",
            "Epoch 186/200\n",
            "363/363 [==============================] - 1s 3ms/step - loss: 0.3199 - val_loss: 0.3192\n",
            "Epoch 187/200\n",
            "363/363 [==============================] - 1s 3ms/step - loss: 0.3196 - val_loss: 0.3199\n",
            "Epoch 188/200\n",
            "363/363 [==============================] - 1s 2ms/step - loss: 0.3194 - val_loss: 0.3175\n",
            "Epoch 189/200\n",
            "363/363 [==============================] - 1s 2ms/step - loss: 0.3201 - val_loss: 0.3199\n",
            "Epoch 190/200\n",
            "363/363 [==============================] - 1s 2ms/step - loss: 0.3191 - val_loss: 0.3181\n",
            "Epoch 191/200\n",
            "363/363 [==============================] - 1s 3ms/step - loss: 0.3187 - val_loss: 0.3194\n",
            "Epoch 192/200\n",
            "363/363 [==============================] - 1s 3ms/step - loss: 0.3179 - val_loss: 0.3169\n",
            "Epoch 193/200\n",
            "363/363 [==============================] - 1s 3ms/step - loss: 0.3176 - val_loss: 0.3183\n",
            "Epoch 194/200\n",
            "363/363 [==============================] - 1s 2ms/step - loss: 0.3174 - val_loss: 0.3169\n",
            "Epoch 195/200\n",
            "363/363 [==============================] - 1s 2ms/step - loss: 0.3169 - val_loss: 0.3181\n",
            "Epoch 196/200\n",
            "363/363 [==============================] - 1s 4ms/step - loss: 0.3169 - val_loss: 0.3176\n",
            "Epoch 197/200\n",
            "363/363 [==============================] - 1s 3ms/step - loss: 0.3163 - val_loss: 0.3178\n",
            "Epoch 198/200\n",
            "363/363 [==============================] - 1s 2ms/step - loss: 0.3164 - val_loss: 0.3194\n",
            "Epoch 199/200\n",
            "363/363 [==============================] - 1s 2ms/step - loss: 0.3161 - val_loss: 0.3170\n",
            "Epoch 200/200\n",
            "363/363 [==============================] - 1s 2ms/step - loss: 0.3169 - val_loss: 0.3163\n"
          ]
        }
      ]
    },
    {
      "cell_type": "code",
      "source": [
        "model = keras.models.load_model('early_stop_model.h5')\n",
        "mse_test = model.evaluate(X_test, y_test)"
      ],
      "metadata": {
        "colab": {
          "base_uri": "https://localhost:8080/"
        },
        "id": "rg8VzYVwrJgb",
        "outputId": "89e1c22b-9164-4ddd-c346-9406b0ddf23e"
      },
      "execution_count": 59,
      "outputs": [
        {
          "output_type": "stream",
          "name": "stdout",
          "text": [
            "162/162 [==============================] - 1s 3ms/step - loss: 0.3405\n"
          ]
        }
      ]
    },
    {
      "cell_type": "code",
      "source": [
        " "
      ],
      "metadata": {
        "id": "Un_lcIsAsDmT"
      },
      "execution_count": null,
      "outputs": []
    }
  ]
}