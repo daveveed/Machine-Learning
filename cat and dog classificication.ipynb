{
 "cells": [
  {
   "cell_type": "code",
   "execution_count": 2,
   "id": "1b7648cb",
   "metadata": {},
   "outputs": [],
   "source": [
    "import numpy as np, pandas as pd, matplotlib as mpl, os\n",
    "%matplotlib inline\n",
    "import matplotlib.pyplot as plt\n",
    "import tensorflow as tf\n",
    "from tensorflow import keras"
   ]
  },
  {
   "cell_type": "code",
   "execution_count": 3,
   "id": "ede7f852",
   "metadata": {},
   "outputs": [],
   "source": [
    "train_dir = r\"C:\\Users\\HP\\Documents\\Machine learning\\cats_and_dogs_small\\train\"\n",
    "validation_dir = r\"C:\\Users\\HP\\Documents\\Machine learning\\cats_and_dogs_small\\validation\"\n",
    "test_dir = r\"C:\\Users\\HP\\Documents\\Machine learning\\cats_and_dogs_small\\test\""
   ]
  },
  {
   "cell_type": "markdown",
   "id": "2bc3da4c",
   "metadata": {},
   "source": [
    "### Data preprocessing\n",
    "- read the picture files\n",
    "- decode the jpeg content to rgb grids of pixels\n",
    "- convert these into floating point tensors\n",
    "- rescale the pixel values (between 0 to 255) to the (0, 1) interval\n",
    "\n",
    "the keras image generator module can do all thes steps in one function"
   ]
  },
  {
   "cell_type": "code",
   "execution_count": 5,
   "id": "c862bfcd",
   "metadata": {},
   "outputs": [],
   "source": [
    "from tensorflow.keras.preprocessing.image import ImageDataGenerator"
   ]
  },
  {
   "cell_type": "code",
   "execution_count": 6,
   "id": "a4da8fbf",
   "metadata": {},
   "outputs": [
    {
     "name": "stdout",
     "output_type": "stream",
     "text": [
      "Found 2000 images belonging to 2 classes.\n",
      "Found 1000 images belonging to 2 classes.\n"
     ]
    }
   ],
   "source": [
    "# create an object with the data generator and rescaling the pixel vlaues between 0 and 1\n",
    "\n",
    "train_datagen = ImageDataGenerator(rescale=1./255)\n",
    "test_datagen = ImageDataGenerator(rescale=1./255)\n",
    "\n",
    "train_generator = train_datagen.flow_from_directory(train_dir, # training directory\n",
    "                                                   target_size=(150,150), #this is to resixe the images\n",
    "                                                   batch_size=20, # images are being fitted in the batches of 20\n",
    "                                                   class_mode='binary') # classification problem with 2 classes\n",
    "#the output of the train_generator would be in the form of x and y label\n",
    "# the y labels will be named according to the folder (in the case: cats and dogs)\n",
    "\n",
    "validation_generator = test_datagen.flow_from_directory(validation_dir,\n",
    "                                                       target_size=(150,150),\n",
    "                                                       batch_size=20,\n",
    "                                                       class_mode='binary')   \n",
    "                                            "
   ]
  },
  {
   "cell_type": "code",
   "execution_count": 7,
   "id": "f8999465",
   "metadata": {},
   "outputs": [],
   "source": [
    "from tensorflow.keras import layers, models"
   ]
  },
  {
   "cell_type": "code",
   "execution_count": 9,
   "id": "b28ca180",
   "metadata": {},
   "outputs": [],
   "source": [
    "model = models.Sequential()\n",
    "\n",
    "# 4 convolutional layers with pooling\n",
    "model.add(layers.Conv2D(32, (3,3), activation='relu', input_shape=(150,150,3)))\n",
    "model.add(layers.MaxPooling2D((2,2)))\n",
    "\n",
    "model.add(layers.Conv2D(64, (3,3), activation='relu'))\n",
    "model.add(layers.MaxPooling2D((2,2)))\n",
    "\n",
    "model.add(layers.Conv2D(128, (3,3), activation='relu'))\n",
    "model.add(layers.MaxPooling2D((2,2)))\n",
    "\n",
    "model.add(layers.Conv2D(256, (3,3), activation='relu'))\n",
    "model.add(layers.MaxPooling2D((2,2)))\n",
    "\n",
    "# flatten \n",
    "\n",
    "model.add(layers.Flatten())\n",
    "\n",
    "model.add(layers.Dense(512, activation='relu'))\n",
    "model.add(layers.Dense(1, activation='sigmoid'))"
   ]
  },
  {
   "cell_type": "code",
   "execution_count": 10,
   "id": "4ef28622",
   "metadata": {},
   "outputs": [
    {
     "name": "stdout",
     "output_type": "stream",
     "text": [
      "Model: \"sequential_1\"\n",
      "_________________________________________________________________\n",
      "Layer (type)                 Output Shape              Param #   \n",
      "=================================================================\n",
      "conv2d_2 (Conv2D)            (None, 148, 148, 32)      896       \n",
      "_________________________________________________________________\n",
      "max_pooling2d_2 (MaxPooling2 (None, 74, 74, 32)        0         \n",
      "_________________________________________________________________\n",
      "conv2d_3 (Conv2D)            (None, 72, 72, 64)        18496     \n",
      "_________________________________________________________________\n",
      "max_pooling2d_3 (MaxPooling2 (None, 36, 36, 64)        0         \n",
      "_________________________________________________________________\n",
      "conv2d_4 (Conv2D)            (None, 34, 34, 128)       73856     \n",
      "_________________________________________________________________\n",
      "max_pooling2d_4 (MaxPooling2 (None, 17, 17, 128)       0         \n",
      "_________________________________________________________________\n",
      "conv2d_5 (Conv2D)            (None, 15, 15, 256)       295168    \n",
      "_________________________________________________________________\n",
      "max_pooling2d_5 (MaxPooling2 (None, 7, 7, 256)         0         \n",
      "_________________________________________________________________\n",
      "flatten (Flatten)            (None, 12544)             0         \n",
      "_________________________________________________________________\n",
      "dense (Dense)                (None, 512)               6423040   \n",
      "_________________________________________________________________\n",
      "dense_1 (Dense)              (None, 1)                 513       \n",
      "=================================================================\n",
      "Total params: 6,811,969\n",
      "Trainable params: 6,811,969\n",
      "Non-trainable params: 0\n",
      "_________________________________________________________________\n"
     ]
    }
   ],
   "source": [
    "model.summary()"
   ]
  },
  {
   "cell_type": "code",
   "execution_count": 11,
   "id": "01a718f4",
   "metadata": {},
   "outputs": [
    {
     "name": "stdout",
     "output_type": "stream",
     "text": [
      "WARNING:tensorflow:From C:\\Users\\HP\\.conda\\envs\\geopython\\lib\\site-packages\\tensorflow\\python\\ops\\nn_impl.py:180: add_dispatch_support.<locals>.wrapper (from tensorflow.python.ops.array_ops) is deprecated and will be removed in a future version.\n",
      "Instructions for updating:\n",
      "Use tf.where in 2.0, which has the same broadcast rule as np.where\n"
     ]
    }
   ],
   "source": [
    "from tensorflow.keras import optimizers\n",
    "\n",
    "model.compile(loss='binary_crossentropy',\n",
    "             optimizer= optimizers.RMSprop(lr=1e-4),\n",
    "             metrics=['acc'])"
   ]
  },
  {
   "cell_type": "code",
   "execution_count": 12,
   "id": "5a004325",
   "metadata": {},
   "outputs": [
    {
     "name": "stdout",
     "output_type": "stream",
     "text": [
      "Epoch 1/20\n",
      "100/100 [==============================] - 77s 769ms/step - loss: 0.6885 - acc: 0.5330 - val_loss: 0.6726 - val_acc: 0.5270\n",
      "Epoch 2/20\n",
      "100/100 [==============================] - 64s 639ms/step - loss: 0.6418 - acc: 0.6205 - val_loss: 0.6174 - val_acc: 0.6580\n",
      "Epoch 3/20\n",
      "100/100 [==============================] - 72s 716ms/step - loss: 0.5769 - acc: 0.6875 - val_loss: 0.6012 - val_acc: 0.6850\n",
      "Epoch 4/20\n",
      "100/100 [==============================] - 89s 892ms/step - loss: 0.5486 - acc: 0.7175 - val_loss: 0.5948 - val_acc: 0.6780\n",
      "Epoch 5/20\n",
      "100/100 [==============================] - 66s 662ms/step - loss: 0.5160 - acc: 0.7465 - val_loss: 0.5736 - val_acc: 0.7000\n",
      "Epoch 6/20\n",
      "100/100 [==============================] - 62s 619ms/step - loss: 0.4854 - acc: 0.7690 - val_loss: 0.5689 - val_acc: 0.7010\n",
      "Epoch 7/20\n",
      "100/100 [==============================] - 65s 652ms/step - loss: 0.4519 - acc: 0.7920 - val_loss: 0.5597 - val_acc: 0.7110\n",
      "Epoch 8/20\n",
      "100/100 [==============================] - 62s 624ms/step - loss: 0.4250 - acc: 0.8020 - val_loss: 0.5505 - val_acc: 0.7200\n",
      "Epoch 9/20\n",
      "100/100 [==============================] - 63s 626ms/step - loss: 0.3968 - acc: 0.8285 - val_loss: 0.6062 - val_acc: 0.7080\n",
      "Epoch 10/20\n",
      "100/100 [==============================] - 69s 692ms/step - loss: 0.3715 - acc: 0.8430 - val_loss: 0.5472 - val_acc: 0.7260\n",
      "Epoch 11/20\n",
      "100/100 [==============================] - 66s 656ms/step - loss: 0.3385 - acc: 0.8600 - val_loss: 0.5620 - val_acc: 0.7260\n",
      "Epoch 12/20\n",
      "100/100 [==============================] - 63s 632ms/step - loss: 0.3200 - acc: 0.8655 - val_loss: 0.5744 - val_acc: 0.7110\n",
      "Epoch 13/20\n",
      "100/100 [==============================] - 61s 613ms/step - loss: 0.2919 - acc: 0.8820 - val_loss: 0.5474 - val_acc: 0.7430\n",
      "Epoch 14/20\n",
      "100/100 [==============================] - 61s 614ms/step - loss: 0.2636 - acc: 0.8875 - val_loss: 0.6041 - val_acc: 0.7370\n",
      "Epoch 15/20\n",
      "100/100 [==============================] - 68s 678ms/step - loss: 0.2444 - acc: 0.9075 - val_loss: 0.5834 - val_acc: 0.7460\n",
      "Epoch 16/20\n",
      "100/100 [==============================] - 62s 622ms/step - loss: 0.2245 - acc: 0.9135 - val_loss: 0.6128 - val_acc: 0.7350\n",
      "Epoch 17/20\n",
      "100/100 [==============================] - 61s 606ms/step - loss: 0.1829 - acc: 0.9285 - val_loss: 0.8853 - val_acc: 0.6880\n",
      "Epoch 18/20\n",
      "100/100 [==============================] - 60s 602ms/step - loss: 0.1734 - acc: 0.9425 - val_loss: 0.6664 - val_acc: 0.7400\n",
      "Epoch 19/20\n",
      "100/100 [==============================] - 61s 609ms/step - loss: 0.1535 - acc: 0.9470 - val_loss: 0.7406 - val_acc: 0.7140\n",
      "Epoch 20/20\n",
      "100/100 [==============================] - 62s 623ms/step - loss: 0.1334 - acc: 0.9580 - val_loss: 0.7790 - val_acc: 0.7310\n"
     ]
    }
   ],
   "source": [
    "history = model.fit_generator(train_generator, # fit generator cos we are getting our data in the batches of 20\n",
    "                             steps_per_epoch=100, # train generator generates data continously so we need a stop point at 100 after it has generated 20 images 100 times which will equal the 2000 trainng images\n",
    "                             epochs=20,\n",
    "                             validation_data=validation_generator,\n",
    "                             validation_steps=50) # 1000 validation data divided by 20 equeals 50 steps"
   ]
  },
  {
   "cell_type": "code",
   "execution_count": 13,
   "id": "9f4f93d2",
   "metadata": {},
   "outputs": [
    {
     "data": {
      "image/png": "[encoded data removed]",
      "text/plain": [
       "<Figure size 576x360 with 1 Axes>"
      ]
     },
     "metadata": {
      "needs_background": "light"
     },
     "output_type": "display_data"
    }
   ],
   "source": [
    "pd.DataFrame(history.history).plot(figsize=(8,5))\n",
    "plt.grid(True)\n",
    "plt.gca().set_ylim(0,1)\n",
    "plt.show()"
   ]
  },
  {
   "cell_type": "code",
   "execution_count": 15,
   "id": "6777d1ec",
   "metadata": {},
   "outputs": [],
   "source": [
    "model.save('model.h5')"
   ]
  },
  {
   "cell_type": "code",
   "execution_count": 16,
   "id": "fc701aec",
   "metadata": {},
   "outputs": [
    {
     "data": {
      "text/plain": [
       "'C:\\\\Users\\\\HP\\\\Documents\\\\Machine learning\\\\note books'"
      ]
     },
     "execution_count": 16,
     "metadata": {},
     "output_type": "execute_result"
    }
   ],
   "source": [
    "%pwd"
   ]
  },
  {
   "cell_type": "markdown",
   "id": "ec11300a",
   "metadata": {},
   "source": [
    "We can detect some overfitting in the data because the training accuracy is increasing but the vlaidation accuracy remains the same \n"
   ]
  },
  {
   "cell_type": "code",
   "execution_count": 18,
   "id": "5983b46a",
   "metadata": {},
   "outputs": [],
   "source": [
    "from tensorflow.keras import backend\n",
    "\n",
    "backend.clear_session()\n",
    "del model"
   ]
  },
  {
   "cell_type": "markdown",
   "id": "bc01494a",
   "metadata": {},
   "source": [
    "### Data augumentation \n",
    "\n",
    "its a technique to improve accuracy by tweaking the original image eg scaling, shering, zooming, rotating etc\n",
    "this is applied to the same trainig data"
   ]
  },
  {
   "cell_type": "code",
   "execution_count": 19,
   "id": "037a2573",
   "metadata": {},
   "outputs": [
    {
     "name": "stdout",
     "output_type": "stream",
     "text": [
      "Found 2000 images belonging to 2 classes.\n",
      "Found 1000 images belonging to 2 classes.\n"
     ]
    }
   ],
   "source": [
    "train_datagen = ImageDataGenerator(rescale=1./255,\n",
    "                                  rotation_range=40,\n",
    "                                  width_shift_range=0.2,\n",
    "                                  height_shift_range=0.2,\n",
    "                                  shear_range=0.2,\n",
    "                                  zoom_range=0.2,\n",
    "                                  horizontal_flip=True)\n",
    "\n",
    "test_datagen = ImageDataGenerator(rescale=1./255)\n",
    "\n",
    "train_generator = train_datagen.flow_from_directory(train_dir,\n",
    "                                                   target_size=(150,150),\n",
    "                                                   batch_size=32,\n",
    "                                                   class_mode='binary')\n",
    "\n",
    "validation_generator = test_datagen.flow_from_directory(validation_dir,\n",
    "                                                       target_size=(150,150),\n",
    "                                                       batch_size=32,\n",
    "                                                       class_mode='binary')"
   ]
  },
  {
   "cell_type": "code",
   "execution_count": 20,
   "id": "8fc2f7ad",
   "metadata": {},
   "outputs": [],
   "source": [
    "# model architerture\n",
    "\n",
    "model = models.Sequential()\n",
    "\n",
    "model.add(layers.Conv2D(32,(3,3), activation='relu', input_shape=(150,150,3)))\n",
    "model.add(layers.MaxPool2D((2,2)))\n",
    "\n",
    "model.add(layers.Conv2D(64,(3,3), activation='relu'))\n",
    "model.add(layers.MaxPool2D((2,2)))\n",
    "\n",
    "model.add(layers.Conv2D(128,(3,3), activation='relu'))\n",
    "model.add(layers.MaxPool2D((2,2)))\n",
    "\n",
    "model.add(layers.Conv2D(128,(3,3), activation='relu'))\n",
    "model.add(layers.MaxPool2D((2,2)))\n",
    "\n",
    "model.add(layers.Flatten())\n",
    "model.add(layers.Dropout(0.5)) # for each epoc we are deactivation 50% of the entire neurons\n",
    "\n",
    "model.add(layers.Dense(512, activation='relu'))\n",
    "model.add(layers.Dense(1, activation='sigmoid'))\n",
    "\n",
    "model.compile(loss='binary_crossentropy',\n",
    "             optimizer=optimizers.RMSprop(lr=1e-4),\n",
    "             metrics=['acc'])"
   ]
  },
  {
   "cell_type": "code",
   "execution_count": 21,
   "id": "8ecd99d6",
   "metadata": {},
   "outputs": [
    {
     "name": "stdout",
     "output_type": "stream",
     "text": [
      "Epoch 1/100\n",
      "100/100 [==============================] - 124s 1s/step - loss: 0.6942 - acc: 0.5271 - val_loss: 0.6903 - val_acc: 0.5152\n",
      "Epoch 2/100\n",
      "100/100 [==============================] - 91s 907ms/step - loss: 0.6822 - acc: 0.5609 - val_loss: 0.6574 - val_acc: 0.6022\n",
      "Epoch 3/100\n",
      "100/100 [==============================] - 91s 914ms/step - loss: 0.6733 - acc: 0.5713 - val_loss: 0.6418 - val_acc: 0.6263\n",
      "Epoch 4/100\n",
      "100/100 [==============================] - 90s 902ms/step - loss: 0.6553 - acc: 0.5968 - val_loss: 0.6223 - val_acc: 0.6497\n",
      "Epoch 5/100\n",
      "100/100 [==============================] - 91s 909ms/step - loss: 0.6369 - acc: 0.6363 - val_loss: 0.6068 - val_acc: 0.6631\n",
      "Epoch 6/100\n",
      "100/100 [==============================] - 95s 950ms/step - loss: 0.6208 - acc: 0.6558 - val_loss: 0.5789 - val_acc: 0.6872\n",
      "Epoch 7/100\n",
      "100/100 [==============================] - 94s 937ms/step - loss: 0.6086 - acc: 0.6566 - val_loss: 0.6084 - val_acc: 0.6440\n",
      "Epoch 8/100\n",
      "100/100 [==============================] - 96s 959ms/step - loss: 0.5953 - acc: 0.6875 - val_loss: 0.6023 - val_acc: 0.6523\n",
      "Epoch 9/100\n",
      "100/100 [==============================] - 93s 932ms/step - loss: 0.5865 - acc: 0.6941 - val_loss: 0.5763 - val_acc: 0.6910\n",
      "Epoch 10/100\n",
      "100/100 [==============================] - 95s 948ms/step - loss: 0.5858 - acc: 0.6843 - val_loss: 0.5474 - val_acc: 0.7202\n",
      "Epoch 11/100\n",
      "100/100 [==============================] - 106s 1s/step - loss: 0.5813 - acc: 0.6856 - val_loss: 0.5297 - val_acc: 0.7379\n",
      "Epoch 12/100\n",
      "100/100 [==============================] - 104s 1s/step - loss: 0.5732 - acc: 0.6960 - val_loss: 0.5360 - val_acc: 0.7234\n",
      "Epoch 13/100\n",
      "100/100 [==============================] - 97s 973ms/step - loss: 0.5643 - acc: 0.7060 - val_loss: 0.5341 - val_acc: 0.7126\n",
      "Epoch 14/100\n",
      "100/100 [==============================] - 98s 983ms/step - loss: 0.5628 - acc: 0.7203 - val_loss: 0.5533 - val_acc: 0.7132\n",
      "Epoch 15/100\n",
      "100/100 [==============================] - 97s 974ms/step - loss: 0.5467 - acc: 0.7169 - val_loss: 0.5622 - val_acc: 0.6992\n",
      "Epoch 16/100\n",
      "100/100 [==============================] - 96s 961ms/step - loss: 0.5390 - acc: 0.7355 - val_loss: 0.5135 - val_acc: 0.7367\n",
      "Epoch 17/100\n",
      "100/100 [==============================] - 94s 936ms/step - loss: 0.5601 - acc: 0.7148 - val_loss: 0.5372 - val_acc: 0.7094\n",
      "Epoch 18/100\n",
      "100/100 [==============================] - 97s 969ms/step - loss: 0.5394 - acc: 0.7266 - val_loss: 0.5292 - val_acc: 0.7189\n",
      "Epoch 19/100\n",
      "100/100 [==============================] - 96s 965ms/step - loss: 0.5329 - acc: 0.7393 - val_loss: 0.4910 - val_acc: 0.7481\n",
      "Epoch 20/100\n",
      "100/100 [==============================] - 94s 941ms/step - loss: 0.5311 - acc: 0.7352 - val_loss: 0.5121 - val_acc: 0.7379\n",
      "Epoch 21/100\n",
      "100/100 [==============================] - 93s 927ms/step - loss: 0.5234 - acc: 0.7374 - val_loss: 0.5593 - val_acc: 0.7221\n",
      "Epoch 22/100\n",
      "100/100 [==============================] - 93s 931ms/step - loss: 0.5301 - acc: 0.7350 - val_loss: 0.5202 - val_acc: 0.7354\n",
      "Epoch 23/100\n",
      "100/100 [==============================] - 95s 946ms/step - loss: 0.5175 - acc: 0.7336 - val_loss: 0.4939 - val_acc: 0.7513\n",
      "Epoch 24/100\n",
      "100/100 [==============================] - 92s 922ms/step - loss: 0.5139 - acc: 0.7459 - val_loss: 0.4812 - val_acc: 0.7627\n",
      "Epoch 25/100\n",
      "100/100 [==============================] - 99s 990ms/step - loss: 0.5088 - acc: 0.7528 - val_loss: 0.4726 - val_acc: 0.7798\n",
      "Epoch 26/100\n",
      "100/100 [==============================] - 94s 938ms/step - loss: 0.5098 - acc: 0.7478 - val_loss: 0.5000 - val_acc: 0.7506\n",
      "Epoch 27/100\n",
      "100/100 [==============================] - 94s 940ms/step - loss: 0.4970 - acc: 0.7513 - val_loss: 0.4745 - val_acc: 0.7665\n",
      "Epoch 28/100\n",
      "100/100 [==============================] - 94s 942ms/step - loss: 0.4918 - acc: 0.7617 - val_loss: 0.5010 - val_acc: 0.7456\n",
      "Epoch 29/100\n",
      "100/100 [==============================] - 92s 922ms/step - loss: 0.4894 - acc: 0.7569 - val_loss: 0.5340 - val_acc: 0.7405\n",
      "Epoch 30/100\n",
      "100/100 [==============================] - 95s 946ms/step - loss: 0.4848 - acc: 0.7651 - val_loss: 0.4790 - val_acc: 0.7640\n",
      "Epoch 31/100\n",
      "100/100 [==============================] - 93s 934ms/step - loss: 0.4818 - acc: 0.7749 - val_loss: 0.5096 - val_acc: 0.7563\n",
      "Epoch 32/100\n",
      "100/100 [==============================] - 93s 932ms/step - loss: 0.4937 - acc: 0.7617 - val_loss: 0.4583 - val_acc: 0.7747\n",
      "Epoch 33/100\n",
      "100/100 [==============================] - 92s 922ms/step - loss: 0.4812 - acc: 0.7704 - val_loss: 0.4946 - val_acc: 0.7551\n",
      "Epoch 34/100\n",
      "100/100 [==============================] - 94s 941ms/step - loss: 0.4790 - acc: 0.7734 - val_loss: 0.5138 - val_acc: 0.7430\n",
      "Epoch 35/100\n",
      "100/100 [==============================] - 97s 968ms/step - loss: 0.4666 - acc: 0.7704 - val_loss: 0.4815 - val_acc: 0.7475\n",
      "Epoch 36/100\n",
      "100/100 [==============================] - 99s 990ms/step - loss: 0.4703 - acc: 0.7756 - val_loss: 0.4792 - val_acc: 0.7646\n",
      "Epoch 37/100\n",
      "100/100 [==============================] - 91s 913ms/step - loss: 0.4784 - acc: 0.7717 - val_loss: 0.5395 - val_acc: 0.7297\n",
      "Epoch 38/100\n",
      "100/100 [==============================] - 93s 933ms/step - loss: 0.4670 - acc: 0.7727 - val_loss: 0.4836 - val_acc: 0.7716\n",
      "Epoch 39/100\n",
      "100/100 [==============================] - 102s 1s/step - loss: 0.4753 - acc: 0.7724 - val_loss: 0.5014 - val_acc: 0.7500\n",
      "Epoch 40/100\n",
      "100/100 [==============================] - 100s 1s/step - loss: 0.4627 - acc: 0.7800 - val_loss: 0.4611 - val_acc: 0.7640\n",
      "Epoch 41/100\n",
      "100/100 [==============================] - 101s 1s/step - loss: 0.4540 - acc: 0.7817 - val_loss: 0.4455 - val_acc: 0.7843\n",
      "Epoch 42/100\n",
      "100/100 [==============================] - 109s 1s/step - loss: 0.4562 - acc: 0.7797 - val_loss: 0.4900 - val_acc: 0.7602\n",
      "Epoch 43/100\n",
      "100/100 [==============================] - 96s 961ms/step - loss: 0.4457 - acc: 0.7929 - val_loss: 0.5259 - val_acc: 0.7475\n",
      "Epoch 44/100\n",
      "100/100 [==============================] - 97s 966ms/step - loss: 0.4595 - acc: 0.7789 - val_loss: 0.4327 - val_acc: 0.7843\n",
      "Epoch 45/100\n",
      "100/100 [==============================] - 117s 1s/step - loss: 0.4443 - acc: 0.7962 - val_loss: 0.4710 - val_acc: 0.7938\n",
      "Epoch 46/100\n",
      "100/100 [==============================] - 107s 1s/step - loss: 0.4600 - acc: 0.7771 - val_loss: 0.4822 - val_acc: 0.7563\n",
      "Epoch 47/100\n",
      "100/100 [==============================] - 103s 1s/step - loss: 0.4444 - acc: 0.7872 - val_loss: 0.4933 - val_acc: 0.7709\n",
      "Epoch 48/100\n",
      "100/100 [==============================] - 106s 1s/step - loss: 0.4518 - acc: 0.7896 - val_loss: 0.4511 - val_acc: 0.7735\n",
      "Epoch 49/100\n",
      "100/100 [==============================] - 112s 1s/step - loss: 0.4456 - acc: 0.7923 - val_loss: 0.6569 - val_acc: 0.6859\n",
      "Epoch 50/100\n",
      "100/100 [==============================] - 110s 1s/step - loss: 0.4385 - acc: 0.7820 - val_loss: 0.4639 - val_acc: 0.7805\n",
      "Epoch 51/100\n",
      "100/100 [==============================] - 107s 1s/step - loss: 0.4321 - acc: 0.8002 - val_loss: 0.4494 - val_acc: 0.7862\n",
      "Epoch 52/100\n",
      "100/100 [==============================] - 105s 1s/step - loss: 0.4320 - acc: 0.7968 - val_loss: 0.4904 - val_acc: 0.7779\n",
      "Epoch 53/100\n",
      "100/100 [==============================] - 101s 1s/step - loss: 0.4433 - acc: 0.7996 - val_loss: 0.4138 - val_acc: 0.8039\n",
      "Epoch 54/100\n",
      "100/100 [==============================] - 103s 1s/step - loss: 0.4266 - acc: 0.7967 - val_loss: 0.4319 - val_acc: 0.7963\n",
      "Epoch 55/100\n",
      "100/100 [==============================] - 103s 1s/step - loss: 0.4329 - acc: 0.8031 - val_loss: 0.5240 - val_acc: 0.7481\n",
      "Epoch 56/100\n",
      "100/100 [==============================] - 107s 1s/step - loss: 0.4211 - acc: 0.8015 - val_loss: 0.4874 - val_acc: 0.7697\n",
      "Epoch 57/100\n",
      "100/100 [==============================] - 108s 1s/step - loss: 0.4146 - acc: 0.8182 - val_loss: 0.4398 - val_acc: 0.7944\n",
      "Epoch 58/100\n",
      "100/100 [==============================] - 101s 1s/step - loss: 0.4296 - acc: 0.7989 - val_loss: 0.5666 - val_acc: 0.7424\n",
      "Epoch 59/100\n",
      "100/100 [==============================] - 104s 1s/step - loss: 0.4244 - acc: 0.8033 - val_loss: 0.4234 - val_acc: 0.8071\n",
      "Epoch 60/100\n",
      "100/100 [==============================] - 102s 1s/step - loss: 0.4227 - acc: 0.7983 - val_loss: 0.4192 - val_acc: 0.8014\n",
      "Epoch 61/100\n"
     ]
    },
    {
     "name": "stdout",
     "output_type": "stream",
     "text": [
      "100/100 [==============================] - 106s 1s/step - loss: 0.4194 - acc: 0.8050 - val_loss: 0.4414 - val_acc: 0.7830\n",
      "Epoch 62/100\n",
      "100/100 [==============================] - 103s 1s/step - loss: 0.4033 - acc: 0.8112 - val_loss: 0.4925 - val_acc: 0.7760\n",
      "Epoch 63/100\n",
      "100/100 [==============================] - 122s 1s/step - loss: 0.4208 - acc: 0.8034 - val_loss: 0.5234 - val_acc: 0.7557\n",
      "Epoch 64/100\n",
      "100/100 [==============================] - 123s 1s/step - loss: 0.4064 - acc: 0.8147 - val_loss: 0.4264 - val_acc: 0.8058\n",
      "Epoch 65/100\n",
      "100/100 [==============================] - 105s 1s/step - loss: 0.3995 - acc: 0.8144 - val_loss: 0.4681 - val_acc: 0.7906\n",
      "Epoch 66/100\n",
      "100/100 [==============================] - 103s 1s/step - loss: 0.4082 - acc: 0.8138 - val_loss: 0.4178 - val_acc: 0.8128\n",
      "Epoch 67/100\n",
      "100/100 [==============================] - 102s 1s/step - loss: 0.4034 - acc: 0.8172 - val_loss: 0.4107 - val_acc: 0.8115\n",
      "Epoch 68/100\n",
      "100/100 [==============================] - 131s 1s/step - loss: 0.3905 - acc: 0.8220 - val_loss: 0.5214 - val_acc: 0.7690\n",
      "Epoch 69/100\n",
      "100/100 [==============================] - 128s 1s/step - loss: 0.3954 - acc: 0.8245 - val_loss: 0.4481 - val_acc: 0.8058\n",
      "Epoch 70/100\n",
      "100/100 [==============================] - 128s 1s/step - loss: 0.3868 - acc: 0.8241 - val_loss: 0.4526 - val_acc: 0.7868\n",
      "Epoch 71/100\n",
      "100/100 [==============================] - 121s 1s/step - loss: 0.3817 - acc: 0.8324 - val_loss: 0.4390 - val_acc: 0.8147\n",
      "Epoch 72/100\n",
      "100/100 [==============================] - 123s 1s/step - loss: 0.3931 - acc: 0.8247 - val_loss: 0.4526 - val_acc: 0.8103\n",
      "Epoch 73/100\n",
      "100/100 [==============================] - 121s 1s/step - loss: 0.3771 - acc: 0.8245 - val_loss: 0.4468 - val_acc: 0.7912\n",
      "Epoch 74/100\n",
      "100/100 [==============================] - 108s 1s/step - loss: 0.3858 - acc: 0.8282 - val_loss: 0.4449 - val_acc: 0.7887\n",
      "Epoch 75/100\n",
      "100/100 [==============================] - 103s 1s/step - loss: 0.3868 - acc: 0.8286 - val_loss: 0.4324 - val_acc: 0.7957\n",
      "Epoch 76/100\n",
      "100/100 [==============================] - 104s 1s/step - loss: 0.3694 - acc: 0.8342 - val_loss: 0.5139 - val_acc: 0.7792\n",
      "Epoch 77/100\n",
      "100/100 [==============================] - 106s 1s/step - loss: 0.3945 - acc: 0.8188 - val_loss: 0.4798 - val_acc: 0.7786\n",
      "Epoch 78/100\n",
      "100/100 [==============================] - 102s 1s/step - loss: 0.3708 - acc: 0.8333 - val_loss: 0.4434 - val_acc: 0.8096\n",
      "Epoch 79/100\n",
      "100/100 [==============================] - 95s 950ms/step - loss: 0.3659 - acc: 0.8405 - val_loss: 0.4420 - val_acc: 0.8001\n",
      "Epoch 80/100\n",
      "100/100 [==============================] - 94s 941ms/step - loss: 0.3734 - acc: 0.8374 - val_loss: 0.4074 - val_acc: 0.8084\n",
      "Epoch 81/100\n",
      "100/100 [==============================] - 96s 960ms/step - loss: 0.3794 - acc: 0.8241 - val_loss: 0.4031 - val_acc: 0.8166\n",
      "Epoch 82/100\n",
      "100/100 [==============================] - 94s 942ms/step - loss: 0.3667 - acc: 0.8292 - val_loss: 0.4708 - val_acc: 0.7900\n",
      "Epoch 83/100\n",
      "100/100 [==============================] - 97s 972ms/step - loss: 0.3595 - acc: 0.8348 - val_loss: 0.4399 - val_acc: 0.8014\n",
      "Epoch 84/100\n",
      "100/100 [==============================] - 93s 933ms/step - loss: 0.3532 - acc: 0.8438 - val_loss: 0.4373 - val_acc: 0.8160\n",
      "Epoch 85/100\n",
      "100/100 [==============================] - 116s 1s/step - loss: 0.3632 - acc: 0.8378 - val_loss: 0.5458 - val_acc: 0.7709\n",
      "Epoch 86/100\n",
      "100/100 [==============================] - 126s 1s/step - loss: 0.3711 - acc: 0.8343 - val_loss: 0.4340 - val_acc: 0.8160\n",
      "Epoch 87/100\n",
      "100/100 [==============================] - 107s 1s/step - loss: 0.3524 - acc: 0.8370 - val_loss: 0.4776 - val_acc: 0.8077\n",
      "Epoch 88/100\n",
      "100/100 [==============================] - 108s 1s/step - loss: 0.3652 - acc: 0.8427 - val_loss: 0.3888 - val_acc: 0.8338\n",
      "Epoch 89/100\n",
      "100/100 [==============================] - 110s 1s/step - loss: 0.3495 - acc: 0.8458 - val_loss: 0.4759 - val_acc: 0.7893\n",
      "Epoch 90/100\n",
      "100/100 [==============================] - 109s 1s/step - loss: 0.3585 - acc: 0.8397 - val_loss: 0.4831 - val_acc: 0.7951\n",
      "Epoch 91/100\n",
      "100/100 [==============================] - 117s 1s/step - loss: 0.3610 - acc: 0.8412 - val_loss: 0.3941 - val_acc: 0.8293\n",
      "Epoch 92/100\n",
      "100/100 [==============================] - 112s 1s/step - loss: 0.3514 - acc: 0.8352 - val_loss: 0.4376 - val_acc: 0.8084\n",
      "Epoch 93/100\n",
      "100/100 [==============================] - 116s 1s/step - loss: 0.3543 - acc: 0.8395 - val_loss: 0.4896 - val_acc: 0.7881\n",
      "Epoch 94/100\n",
      "100/100 [==============================] - 115s 1s/step - loss: 0.3356 - acc: 0.8605 - val_loss: 0.4120 - val_acc: 0.8325\n",
      "Epoch 95/100\n",
      "100/100 [==============================] - 113s 1s/step - loss: 0.3418 - acc: 0.8469 - val_loss: 0.4594 - val_acc: 0.8077\n",
      "Epoch 96/100\n",
      "100/100 [==============================] - 115s 1s/step - loss: 0.3457 - acc: 0.8472 - val_loss: 0.6836 - val_acc: 0.7449\n",
      "Epoch 97/100\n",
      "100/100 [==============================] - 110s 1s/step - loss: 0.3410 - acc: 0.8499 - val_loss: 0.4323 - val_acc: 0.8344\n",
      "Epoch 98/100\n",
      "100/100 [==============================] - 116s 1s/step - loss: 0.3430 - acc: 0.8499 - val_loss: 0.4031 - val_acc: 0.8223\n",
      "Epoch 99/100\n",
      "100/100 [==============================] - 108s 1s/step - loss: 0.3261 - acc: 0.8545 - val_loss: 0.4333 - val_acc: 0.8185\n",
      "Epoch 100/100\n",
      "100/100 [==============================] - 112s 1s/step - loss: 0.3374 - acc: 0.8546 - val_loss: 0.4295 - val_acc: 0.8090\n"
     ]
    }
   ],
   "source": [
    "history = model.fit_generator(train_generator,\n",
    "                             steps_per_epoch=100,\n",
    "                             epochs=100,\n",
    "                             validation_data=validation_generator,\n",
    "                             validation_steps=50)"
   ]
  },
  {
   "cell_type": "code",
   "execution_count": 22,
   "id": "16371704",
   "metadata": {},
   "outputs": [],
   "source": [
    "model.save('project_cnn.h5')"
   ]
  },
  {
   "cell_type": "code",
   "execution_count": 25,
   "id": "d62f5e26",
   "metadata": {},
   "outputs": [
    {
     "data": {
      "image/png": "[encoded data removed]",
      "text/plain": [
       "<Figure size 576x360 with 1 Axes>"
      ]
     },
     "metadata": {
      "needs_background": "light"
     },
     "output_type": "display_data"
    }
   ],
   "source": [
    "pd.DataFrame(history.history).plot(figsize=(8,5))\n",
    "plt.grid(True)\n",
    "plt.gca().set_ylim(0,1)\n",
    "plt.show()"
   ]
  },
  {
   "cell_type": "code",
   "execution_count": null,
   "id": "56fe80c0",
   "metadata": {},
   "outputs": [],
   "source": [
    "# testing the model\n",
    "test_datagen = test_datagen.flow_from_directory(test_dir,\n",
    "                                               target_size=(150,150),\n",
    "                                               batch_size=20,\n",
    "                                               class_mode='binary')"
   ]
  },
  {
   "cell_type": "code",
   "execution_count": 33,
   "id": "a30fabde",
   "metadata": {},
   "outputs": [
    {
     "data": {
      "text/plain": [
       "[0.42469225615262984, 0.82296956]"
      ]
     },
     "execution_count": 33,
     "metadata": {},
     "output_type": "execute_result"
    }
   ],
   "source": [
    "model.evaluate_generator(test_datagen, steps=50)"
   ]
  },
  {
   "cell_type": "code",
   "execution_count": null,
   "id": "c54f62eb",
   "metadata": {},
   "outputs": [],
   "source": []
  }
 ],
 "metadata": {
  "kernelspec": {
   "display_name": "Python 3 (ipykernel)",
   "language": "python",
   "name": "python3"
  },
  "language_info": {
   "codemirror_mode": {
    "name": "ipython",
    "version": 3
   },
   "file_extension": ".py",
   "mimetype": "text/x-python",
   "name": "python",
   "nbconvert_exporter": "python",
   "pygments_lexer": "ipython3",
   "version": "3.7.12"
  }
 },
 "nbformat": 4,
 "nbformat_minor": 5
}
